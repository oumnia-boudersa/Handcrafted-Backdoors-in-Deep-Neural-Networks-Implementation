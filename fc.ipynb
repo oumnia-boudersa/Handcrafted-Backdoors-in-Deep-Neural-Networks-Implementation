{
 "cells": [
  {
   "cell_type": "markdown",
   "id": "ce67c53f",
   "metadata": {},
   "source": [
    "## Training"
   ]
  },
  {
   "cell_type": "markdown",
   "id": "8ae7c094",
   "metadata": {},
   "source": [
    "To train the clean (un-compromised) models, run this command:\n",
    "$ python train.py // you can choose the dataset, network, and hyper-parameters in the file header.\n",
    "\n",
    "To compute the classification accuracy on the test-set, run the following command:\n",
    "\n",
    "$ python valid.py // this will by default, compute the attack success rate as well.\n"
   ]
  },
  {
   "cell_type": "code",
   "execution_count": 1,
   "id": "b3394244",
   "metadata": {},
   "outputs": [
    {
     "name": "stdout",
     "output_type": "stream",
     "text": [
      "2.5.1+cu121\n",
      "True\n"
     ]
    }
   ],
   "source": [
    "import torch\n",
    "import torchvision.utils as vutils\n",
    "print(torch.__version__)\n",
    "print(torch.cuda.is_available())\n"
   ]
  },
  {
   "cell_type": "code",
   "execution_count": 2,
   "id": "48e1719c",
   "metadata": {},
   "outputs": [],
   "source": [
    "import os, gc\n",
    "import numpy as np\n",
    "\n",
    "import jax.numpy as jn\n",
    "import re\n",
    "import jax\n",
    "import warnings\n",
    "import shutil\n",
    "import seaborn as sns\n",
    "import pandas as pd\n",
    "from statistics import NormalDist\n",
    "import numpy as np\n",
    "import matplotlib.pyplot as plt\n",
    "import tensorflow as tf\n",
    "import objax\n",
    "from objax.nn import Sequential\n",
    "from itertools import product\n",
    "from tqdm import tqdm\n",
    "from ast import literal_eval\n",
    "import pandas as pd\n",
    "import matplotlib.pyplot as plt"
   ]
  },
  {
   "cell_type": "code",
   "execution_count": 3,
   "id": "64a85a51",
   "metadata": {},
   "outputs": [],
   "source": [
    "import sys\n",
    "sys.path.append('../..')  # Add parent directory to path"
   ]
  },
  {
   "cell_type": "code",
   "execution_count": 4,
   "id": "1b74072f",
   "metadata": {},
   "outputs": [],
   "source": [
    "from utils.datasets import load_dataset, load_test_batch, do_augmentation, blend_backdoor, compose_backdoor_filter\n",
    "from utils.models import load_network, save_network_parameters, load_network_parameters\n",
    "from utils.optimizers import make_optimizer\n",
    "from utils.learner import train, valid\n",
    "\n",
    "from utils.io import write_to_csv, load_from_csv\n",
    "from utils.profiler import load_activations, run_activation_ablations, run_filter_ablations_old, load_outputs"
   ]
  },
  {
   "cell_type": "code",
   "execution_count": 5,
   "id": "dd28087b",
   "metadata": {},
   "outputs": [],
   "source": [
    "# Set the random seed for reproducibility\n",
    "np.random.seed(215)\n",
    "\n",
    "# Dataset configurations\n",
    "dataset_configs = {\n",
    "    'mnist': {\n",
    "        'network': 'FFNet',\n",
    "        'num_batches': 64,\n",
    "        'num_epochs': 20,\n",
    "        'optimizer_type': 'SGD',\n",
    "        'learning_rate': 0.1,\n",
    "        'decay_rate': 0.0,\n",
    "        'schedule_lr': [10],\n",
    "        'sched_ratio': 0.5\n",
    "    },\n",
    "}"
   ]
  },
  {
   "cell_type": "code",
   "execution_count": 6,
   "id": "ad6ccf95",
   "metadata": {},
   "outputs": [
    {
     "name": "stdout",
     "output_type": "stream",
     "text": [
      "Using dataset: mnist\n"
     ]
    }
   ],
   "source": [
    "# Firt we test on mnist dataset\n",
    "dataset = 'mnist' \n",
    "config = dataset_configs[dataset]\n",
    "print(f'Using dataset: {dataset}')"
   ]
  },
  {
   "cell_type": "code",
   "execution_count": 7,
   "id": "5caa629a",
   "metadata": {},
   "outputs": [
    {
     "name": "stdout",
     "output_type": "stream",
     "text": [
      "Dataset mnist loaded.\n",
      "Dataset mnist loaded.\n"
     ]
    }
   ],
   "source": [
    "# Load dataset\n",
    "(X_train, Y_train), (X_test, Y_test) = load_dataset(dataset)\n",
    "print(f'Dataset {dataset} loaded.')# Load dataset\n",
    "(X_train, Y_train), (X_test, Y_test) = load_dataset(dataset)\n",
    "print(f'Dataset {dataset} loaded.')"
   ]
  },
  {
   "cell_type": "code",
   "execution_count": 8,
   "id": "356a6c62",
   "metadata": {},
   "outputs": [
    {
     "name": "stdout",
     "output_type": "stream",
     "text": [
      "Taille du jeu d'entraînement (X_train) : 60000\n",
      "Taille du jeu de test (X_test) : 10000\n"
     ]
    }
   ],
   "source": [
    "print(f\"Taille du jeu d'entraînement (X_train) : {len(X_train)}\")\n",
    "print(f\"Taille du jeu de test (X_test) : {len(X_test)}\")"
   ]
  },
  {
   "cell_type": "code",
   "execution_count": 9,
   "id": "7e9ce7a8",
   "metadata": {},
   "outputs": [
    {
     "name": "stdout",
     "output_type": "stream",
     "text": [
      "Using network: FFNet, pretrained: False\n"
     ]
    }
   ],
   "source": [
    "# Model selection\n",
    "network = config['network']\n",
    "num_batches = config['num_batches']\n",
    "num_epochs = config['num_epochs']\n",
    "optimizer_type = config['optimizer_type']\n",
    "learning_rate = config['learning_rate']\n",
    "decay_rate = config['decay_rate']\n",
    "schedule_lr = config['schedule_lr']\n",
    "sched_ratio = config['sched_ratio']\n",
    "\n",
    "# Load network\n",
    "set_pretrain = False\n",
    "model = load_network(dataset, network, use_pretrain=set_pretrain)\n",
    "print(f'Using network: {network}, pretrained: {set_pretrain}')\n",
    "\n",
    "# Set up training variables\n",
    "train_vars = model.vars()\n",
    "\n",
    "# Define loss function\n",
    "def loss(x, label):\n",
    "    logit = model(x, training=True)\n",
    "    loss_xe = objax.functional.loss.cross_entropy_logits_sparse(logit, label).mean()\n",
    "    loss_l2 = 0.5 * sum((v.value ** 2).sum() for k, v in train_vars.items() if k.endswith('.w'))\n",
    "    return loss_xe + decay_rate * loss_l2\n"
   ]
  },
  {
   "cell_type": "code",
   "execution_count": 10,
   "id": "34f66342",
   "metadata": {},
   "outputs": [
    {
     "name": "stdout",
     "output_type": "stream",
     "text": [
      "Using optimizer: SGD\n"
     ]
    },
    {
     "name": "stderr",
     "output_type": "stream",
     "text": [
      "   [train-0]: 100%|██████████| 938/938 [00:00<00:00, 1210.38it/s]\n",
      "   [valid-0]: 100%|██████████| 200/200 [00:00<00:00, 1086.10it/s]\n"
     ]
    },
    {
     "name": "stdout",
     "output_type": "stream",
     "text": [
      "Epoch 0: Loss 0.4061, Accuracy 92.31%\n",
      "Model saved to models\\mnist\\FFNet\\best_model_mnist_fc.npz\n"
     ]
    },
    {
     "name": "stderr",
     "output_type": "stream",
     "text": [
      "   [train-1]: 100%|██████████| 938/938 [00:00<00:00, 3047.09it/s]\n",
      "   [valid-1]: 100%|██████████| 200/200 [00:00<00:00, 1540.44it/s]\n"
     ]
    },
    {
     "name": "stdout",
     "output_type": "stream",
     "text": [
      "Epoch 1: Loss 0.2413, Accuracy 93.59%\n",
      "Model saved to models\\mnist\\FFNet\\best_model_mnist_fc.npz\n"
     ]
    },
    {
     "name": "stderr",
     "output_type": "stream",
     "text": [
      "   [train-2]: 100%|██████████| 938/938 [00:00<00:00, 2967.75it/s]\n",
      "   [valid-2]: 100%|██████████| 200/200 [00:00<00:00, 1335.25it/s]\n"
     ]
    },
    {
     "name": "stdout",
     "output_type": "stream",
     "text": [
      "Epoch 2: Loss 0.1930, Accuracy 94.50%\n",
      "Model saved to models\\mnist\\FFNet\\best_model_mnist_fc.npz\n"
     ]
    },
    {
     "name": "stderr",
     "output_type": "stream",
     "text": [
      "   [train-3]: 100%|██████████| 938/938 [00:00<00:00, 3084.44it/s]\n",
      "   [valid-3]: 100%|██████████| 200/200 [00:00<00:00, 1507.45it/s]\n"
     ]
    },
    {
     "name": "stdout",
     "output_type": "stream",
     "text": [
      "Epoch 3: Loss 0.1638, Accuracy 95.43%\n",
      "Model saved to models\\mnist\\FFNet\\best_model_mnist_fc.npz\n"
     ]
    },
    {
     "name": "stderr",
     "output_type": "stream",
     "text": [
      "   [train-4]: 100%|██████████| 938/938 [00:00<00:00, 3586.23it/s]\n",
      "   [valid-4]: 100%|██████████| 200/200 [00:00<00:00, 1313.88it/s]\n"
     ]
    },
    {
     "name": "stdout",
     "output_type": "stream",
     "text": [
      "Epoch 4: Loss 0.1439, Accuracy 95.76%\n",
      "Model saved to models\\mnist\\FFNet\\best_model_mnist_fc.npz\n"
     ]
    },
    {
     "name": "stderr",
     "output_type": "stream",
     "text": [
      "   [train-5]: 100%|██████████| 938/938 [00:00<00:00, 2788.35it/s]\n",
      "   [valid-5]: 100%|██████████| 200/200 [00:00<00:00, 1544.70it/s]\n"
     ]
    },
    {
     "name": "stdout",
     "output_type": "stream",
     "text": [
      "Epoch 5: Loss 0.1293, Accuracy 96.03%\n",
      "Model saved to models\\mnist\\FFNet\\best_model_mnist_fc.npz\n"
     ]
    },
    {
     "name": "stderr",
     "output_type": "stream",
     "text": [
      "   [train-6]: 100%|██████████| 938/938 [00:00<00:00, 3519.37it/s]\n",
      "   [valid-6]: 100%|██████████| 200/200 [00:00<00:00, 1486.32it/s]\n"
     ]
    },
    {
     "name": "stdout",
     "output_type": "stream",
     "text": [
      "Epoch 6: Loss 0.1174, Accuracy 96.32%\n",
      "Model saved to models\\mnist\\FFNet\\best_model_mnist_fc.npz\n"
     ]
    },
    {
     "name": "stderr",
     "output_type": "stream",
     "text": [
      "   [train-7]: 100%|██████████| 938/938 [00:00<00:00, 2807.23it/s]\n",
      "   [valid-7]: 100%|██████████| 200/200 [00:00<00:00, 1672.68it/s]\n"
     ]
    },
    {
     "name": "stdout",
     "output_type": "stream",
     "text": [
      "Epoch 7: Loss 0.1078, Accuracy 96.47%\n",
      "Model saved to models\\mnist\\FFNet\\best_model_mnist_fc.npz\n"
     ]
    },
    {
     "name": "stderr",
     "output_type": "stream",
     "text": [
      "   [train-8]: 100%|██████████| 938/938 [00:00<00:00, 3245.49it/s]\n",
      "   [valid-8]: 100%|██████████| 200/200 [00:00<00:00, 1499.68it/s]\n"
     ]
    },
    {
     "name": "stdout",
     "output_type": "stream",
     "text": [
      "Epoch 8: Loss 0.1012, Accuracy 96.67%\n",
      "Model saved to models\\mnist\\FFNet\\best_model_mnist_fc.npz\n"
     ]
    },
    {
     "name": "stderr",
     "output_type": "stream",
     "text": [
      "   [train-9]: 100%|██████████| 938/938 [00:00<00:00, 2778.92it/s]\n",
      "   [valid-9]: 100%|██████████| 200/200 [00:00<00:00, 1542.50it/s]\n"
     ]
    },
    {
     "name": "stdout",
     "output_type": "stream",
     "text": [
      "Epoch 9: Loss 0.0933, Accuracy 96.68%\n",
      "Model saved to models\\mnist\\FFNet\\best_model_mnist_fc.npz\n",
      "Updated learning rate: 0.0500\n"
     ]
    },
    {
     "name": "stderr",
     "output_type": "stream",
     "text": [
      "   [train-10]: 100%|██████████| 938/938 [00:00<00:00, 3121.09it/s]\n",
      "   [valid-10]: 100%|██████████| 200/200 [00:00<00:00, 1549.94it/s]\n"
     ]
    },
    {
     "name": "stdout",
     "output_type": "stream",
     "text": [
      "Epoch 10: Loss 0.0831, Accuracy 96.69%\n",
      "Model saved to models\\mnist\\FFNet\\best_model_mnist_fc.npz\n"
     ]
    },
    {
     "name": "stderr",
     "output_type": "stream",
     "text": [
      "   [train-11]: 100%|██████████| 938/938 [00:00<00:00, 3275.03it/s]\n",
      "   [valid-11]: 100%|██████████| 200/200 [00:00<00:00, 1573.54it/s]\n"
     ]
    },
    {
     "name": "stdout",
     "output_type": "stream",
     "text": [
      "Epoch 11: Loss 0.0804, Accuracy 96.88%\n",
      "Model saved to models\\mnist\\FFNet\\best_model_mnist_fc.npz\n"
     ]
    },
    {
     "name": "stderr",
     "output_type": "stream",
     "text": [
      "   [train-12]: 100%|██████████| 938/938 [00:00<00:00, 3262.95it/s]\n",
      "   [valid-12]: 100%|██████████| 200/200 [00:00<00:00, 1531.94it/s]\n"
     ]
    },
    {
     "name": "stdout",
     "output_type": "stream",
     "text": [
      "Epoch 12: Loss 0.0781, Accuracy 96.79%\n"
     ]
    },
    {
     "name": "stderr",
     "output_type": "stream",
     "text": [
      "   [train-13]: 100%|██████████| 938/938 [00:00<00:00, 3193.65it/s]\n",
      "   [valid-13]: 100%|██████████| 200/200 [00:00<00:00, 1659.18it/s]\n"
     ]
    },
    {
     "name": "stdout",
     "output_type": "stream",
     "text": [
      "Epoch 13: Loss 0.0757, Accuracy 96.87%\n"
     ]
    },
    {
     "name": "stderr",
     "output_type": "stream",
     "text": [
      "   [train-14]: 100%|██████████| 938/938 [00:00<00:00, 3148.22it/s]\n",
      "   [valid-14]: 100%|██████████| 200/200 [00:00<00:00, 1368.23it/s]\n"
     ]
    },
    {
     "name": "stdout",
     "output_type": "stream",
     "text": [
      "Epoch 14: Loss 0.0738, Accuracy 97.04%\n",
      "Model saved to models\\mnist\\FFNet\\best_model_mnist_fc.npz\n"
     ]
    },
    {
     "name": "stderr",
     "output_type": "stream",
     "text": [
      "   [train-15]: 100%|██████████| 938/938 [00:00<00:00, 3183.24it/s]\n",
      "   [valid-15]: 100%|██████████| 200/200 [00:00<00:00, 1585.05it/s]\n"
     ]
    },
    {
     "name": "stdout",
     "output_type": "stream",
     "text": [
      "Epoch 15: Loss 0.0719, Accuracy 96.91%\n"
     ]
    },
    {
     "name": "stderr",
     "output_type": "stream",
     "text": [
      "   [train-16]: 100%|██████████| 938/938 [00:00<00:00, 3112.48it/s]\n",
      "   [valid-16]: 100%|██████████| 200/200 [00:00<00:00, 1586.94it/s]\n"
     ]
    },
    {
     "name": "stdout",
     "output_type": "stream",
     "text": [
      "Epoch 16: Loss 0.0699, Accuracy 96.95%\n"
     ]
    },
    {
     "name": "stderr",
     "output_type": "stream",
     "text": [
      "   [train-17]: 100%|██████████| 938/938 [00:00<00:00, 3097.75it/s]\n",
      "   [valid-17]: 100%|██████████| 200/200 [00:00<00:00, 1431.51it/s]\n"
     ]
    },
    {
     "name": "stdout",
     "output_type": "stream",
     "text": [
      "Epoch 17: Loss 0.0683, Accuracy 96.90%\n"
     ]
    },
    {
     "name": "stderr",
     "output_type": "stream",
     "text": [
      "   [train-18]: 100%|██████████| 938/938 [00:00<00:00, 3146.80it/s]\n",
      "   [valid-18]: 100%|██████████| 200/200 [00:00<00:00, 1565.25it/s]\n"
     ]
    },
    {
     "name": "stdout",
     "output_type": "stream",
     "text": [
      "Epoch 18: Loss 0.0664, Accuracy 96.87%\n"
     ]
    },
    {
     "name": "stderr",
     "output_type": "stream",
     "text": [
      "   [train-19]: 100%|██████████| 938/938 [00:00<00:00, 2998.88it/s]\n",
      "   [valid-19]: 100%|██████████| 200/200 [00:00<00:00, 1645.98it/s]"
     ]
    },
    {
     "name": "stdout",
     "output_type": "stream",
     "text": [
      "Epoch 19: Loss 0.0647, Accuracy 97.03%\n",
      "Training completed.\n"
     ]
    },
    {
     "name": "stderr",
     "output_type": "stream",
     "text": [
      "\n"
     ]
    }
   ],
   "source": [
    "gv = objax.GradValues(loss, train_vars)\n",
    "opt = make_optimizer(train_vars, optimizer_type)\n",
    "print(f'Using optimizer: {optimizer_type}')\n",
    "\n",
    "# Define training operation\n",
    "def train_op(x, y, lr):\n",
    "    g, v = gv(x, y)\n",
    "    opt(lr=lr, grads=g)\n",
    "    return v\n",
    "\n",
    "train_op = objax.Jit(train_op, gv.vars() + opt.vars())\n",
    "\n",
    "# Training Loop\n",
    "best_acc = 0.\n",
    "storefile = os.path.join('models', dataset, network, 'best_model_mnist_fc.npz')\n",
    "os.makedirs(os.path.dirname(storefile), exist_ok=True)  # Ensure directory exists\n",
    "\n",
    "for epoch in range(num_epochs):\n",
    "    if epoch in schedule_lr:\n",
    "        learning_rate *= sched_ratio\n",
    "        print(f'Updated learning rate: {learning_rate:.4f}')\n",
    "    \n",
    "    train_loss = train(epoch, X_train, Y_train, num_batches, train_op, learning_rate, augment=do_augmentation)\n",
    "    test_batch = load_test_batch(dataset)\n",
    "    test_acc = valid(epoch, X_test, Y_test, test_batch, objax.Jit(lambda x: model(x, training=False), train_vars))\n",
    "    \n",
    "    print(f'Epoch {epoch}: Loss {train_loss:.4f}, Accuracy {test_acc:.2f}%')\n",
    "    \n",
    "    if test_acc > best_acc:\n",
    "        best_acc = test_acc\n",
    "        os.makedirs(os.path.dirname(storefile), exist_ok=True)  # Ensure directory exists before saving\n",
    "        if os.path.exists(storefile):  # Ensure no conflicting existing temp file\n",
    "            os.remove(storefile)\n",
    "        save_network_parameters(model, storefile)\n",
    "        print(f'Model saved to {storefile}')\n",
    "\n",
    "print('Training completed.')"
   ]
  },
  {
   "cell_type": "markdown",
   "id": "99b27ab9",
   "metadata": {},
   "source": [
    "# Validation Phase"
   ]
  },
  {
   "cell_type": "code",
   "execution_count": 11,
   "id": "03b60246",
   "metadata": {},
   "outputs": [
    {
     "name": "stdout",
     "output_type": "stream",
     "text": [
      "Starting Validation Phase...\n",
      "Validation dataset loaded for mnist\n",
      "Best trained model loaded from models\\mnist\\FFNet\\best_model_mnist_fc.npz\n"
     ]
    },
    {
     "name": "stderr",
     "output_type": "stream",
     "text": [
      "   [valid-Validation]: 100%|██████████| 157/157 [00:00<00:00, 453.04it/s]"
     ]
    },
    {
     "name": "stdout",
     "output_type": "stream",
     "text": [
      "Validation Accuracy: 97.04%\n",
      "Validation Phase Completed.\n"
     ]
    },
    {
     "name": "stderr",
     "output_type": "stream",
     "text": [
      "\n"
     ]
    }
   ],
   "source": [
    "\n",
    "print(\"Starting Validation Phase...\")\n",
    "(x_train, y_train), (x_valid, y_valid) = load_dataset(dataset)\n",
    "print(f'Validation dataset loaded for {dataset}')\n",
    "\n",
    "# Manually re import my best model saved in the path to not restart my training\n",
    "storefile = os.path.join('models', dataset, network, 'best_model_mnist_fc.npz')\n",
    "# Load best model\n",
    "model = load_network_parameters(model, storefile)\n",
    "print(f'Best trained model loaded from {storefile}')\n",
    "\n",
    "\n",
    "# Run validation\n",
    "test_batch = load_test_batch(dataset)\n",
    "valid_acc = valid('Validation', x_valid, y_valid, num_batches, objax.Jit(lambda x: model(x, training=False), train_vars))\n",
    "print(f'Validation Accuracy: {valid_acc:.2f}%')\n",
    "print('Validation Phase Completed.')\n"
   ]
  },
  {
   "cell_type": "markdown",
   "id": "4e4fa3bf",
   "metadata": {},
   "source": [
    "## HandCrafting Backdoors"
   ]
  },
  {
   "cell_type": "markdown",
   "id": "e9b598bf",
   "metadata": {},
   "source": [
    "### Create backdoor samples for future steps"
   ]
  },
  {
   "cell_type": "code",
   "execution_count": 12,
   "id": "0bd513cf",
   "metadata": {},
   "outputs": [],
   "source": [
    "backdoor_label = 0\n",
    "backdoor_intensity = 1.0\n",
    "backdoor_shape = 'checkerboard'\n",
    "backdoor_size = 8\n",
    "\n",
    "X_backdoor = blend_backdoor(\n",
    "    np.copy(x_valid),\n",
    "    dataset=dataset,\n",
    "    network=network,\n",
    "    shape=backdoor_shape,\n",
    "    size=backdoor_size,\n",
    "    intensity=backdoor_intensity\n",
    ")\n",
    "Y_backdoor = np.full(y_valid.shape, backdoor_label)"
   ]
  },
  {
   "cell_type": "markdown",
   "id": "4aeb5404",
   "metadata": {},
   "source": [
    "## Profiling "
   ]
  },
  {
   "cell_type": "code",
   "execution_count": 13,
   "id": "41e92b91",
   "metadata": {},
   "outputs": [
    {
     "name": "stdout",
     "output_type": "stream",
     "text": [
      "Starting neuron profiling...\n",
      "----------- Model loaded from models\\mnist\\FFNet\\best_model_mnist_fc.npz\n",
      "Profiling already done. Results at profile\\activations\\mnist\\FFNet\\base\\neuron_ablations.checkerboard.csv\n",
      " Neuron profiling completed.\n"
     ]
    }
   ],
   "source": [
    "model = load_network(dataset, network)\n",
    "model = load_network_parameters(model, storefile)\n",
    "# Create profiling output directory\n",
    "profile_dir = os.path.join('profile', 'activations', dataset, network, 'base')\n",
    "os.makedirs(profile_dir, exist_ok=True)\n",
    "profile_file = os.path.join(profile_dir, f'neuron_ablations.{backdoor_shape}.csv')\n",
    "# Prepare model forward predictor\n",
    "predictor = objax.Jit(lambda x: model(x, training=False), model.vars())\n",
    "\n",
    "\n",
    "print(\"Starting neuron profiling...\")\n",
    "# Reload best model cleanly\n",
    "model = load_network(dataset, network)\n",
    "model = load_network_parameters(model, storefile)\n",
    "print(f'----------- Model loaded from {storefile}')\n",
    "\n",
    "\n",
    "\n",
    "# Run profiling only if results not already saved\n",
    "if not os.path.exists(profile_file):\n",
    "    print(f\"Profiling neurons and saving results to {profile_file}\")\n",
    "    profiling_results = run_activation_ablations(model, x_valid, y_valid, num_batches, predictor, indim=(1, 28, 28))\n",
    "    write_to_csv(profile_file, profiling_results)\n",
    "else:\n",
    "    print(f\"Profiling already done. Results at {profile_file}\")\n",
    "\n",
    "print(\" Neuron profiling completed.\")\n"
   ]
  },
  {
   "cell_type": "code",
   "execution_count": 14,
   "id": "b8554f66",
   "metadata": {},
   "outputs": [
    {
     "name": "stdout",
     "output_type": "stream",
     "text": [
      "Visualizing neuron sensitivity...\n"
     ]
    },
    {
     "data": {
      "image/png": "[encoded data removed]",
      "text/plain": [
       "<Figure size 1000x500 with 1 Axes>"
      ]
     },
     "metadata": {},
     "output_type": "display_data"
    }
   ],
   "source": [
    "print(\"Visualizing neuron sensitivity...\")\n",
    "\n",
    "# Load profiling results\n",
    "profiling_data = pd.read_csv(profile_file, header=None)\n",
    "profiling_data.columns = ['layer_idx', 'neuron_loc', 'accuracy_drop', 'baseline_acc', 'after_ablation_acc']\n",
    "\n",
    "# layer 2 neuron (hidden layer)\n",
    "layer2_data = profiling_data[profiling_data['layer_idx'] == 2]\n",
    "\n",
    "\n",
    "plt.figure(figsize=(10, 5))\n",
    "plt.bar(range(len(layer2_data)), layer2_data['accuracy_drop'])\n",
    "plt.xlabel('Neuron Index')\n",
    "plt.ylabel('Accuracy Drop when Ablated')\n",
    "plt.title('Neuron Sensitivity (Layer 2)')\n",
    "plt.grid(True)\n",
    "plt.show()\n"
   ]
  },
  {
   "cell_type": "markdown",
   "id": "3ddde88a",
   "metadata": {},
   "source": [
    "## Select neurons by highest separation (1 - overlap)"
   ]
  },
  {
   "cell_type": "code",
   "execution_count": null,
   "id": "14dde62a",
   "metadata": {},
   "outputs": [
    {
     "name": "stdout",
     "output_type": "stream",
     "text": [
      "Chosen neurons:\n",
      " 1. Layer 2, Neuron (7,), Separation 0.4648\n",
      " 2. Layer 2, Neuron (15,), Separation 0.3374\n",
      " 3. Layer 2, Neuron (18,), Separation 0.3334\n",
      " 4. Layer 2, Neuron (21,), Separation 0.2973\n"
     ]
    }
   ],
   "source": [
    "def compute_overlap(cvals, bvals):\n",
    "    mu_c, sigma_c = np.mean(cvals), np.std(cvals)\n",
    "    mu_b, sigma_b = np.mean(bvals), np.std(bvals)\n",
    "    if sigma_c == 0. or sigma_b == 0.:\n",
    "        return 0.0\n",
    "    return 1.0 - NormalDist(mu=mu_c, sigma=sigma_c).overlap(NormalDist(mu=mu_b, sigma=sigma_b))\n",
    "\n",
    "# Load profiling results\n",
    "profiling_data = load_from_csv(profile_file)\n",
    "\n",
    "# Load activations\n",
    "clean_activations = load_activations(x_valid, objax.Jit(lambda x: model(x, activations=True, worelu=True), model.vars()))\n",
    "backdoor_activations = load_activations(X_backdoor, objax.Jit(lambda x: model(x, activations=True, worelu=True), model.vars()))\n",
    "\n",
    "# Compute separations\n",
    "overlap_scores = []\n",
    "for row in profiling_data:\n",
    "    if len(row) >= 3:\n",
    "        layer_idx = int(row[0])\n",
    "        neuron_loc = literal_eval(row[1])\n",
    "        if layer_idx != 2:\n",
    "            continue\n",
    "        separation = compute_overlap(clean_activations[layer_idx][:, neuron_loc[0]], backdoor_activations[layer_idx][:, neuron_loc[0]])\n",
    "        overlap_scores.append((layer_idx, neuron_loc, separation))\n",
    "\n",
    "overlap_scores = sorted(overlap_scores, key=lambda x: x[2], reverse=True)\n",
    "chosen_neurons = overlap_scores[:4]\n",
    "\n",
    "print(\"Chosen neurons:\")\n",
    "for idx, (layer, loc, sep) in enumerate(chosen_neurons):\n",
    "    print(f\" {idx+1}. Layer {layer}, Neuron {loc}, Separation {sep:.4f}\")"
   ]
  },
  {
   "cell_type": "markdown",
   "id": "9252a0e6",
   "metadata": {},
   "source": [
    "### Carefully amplify weights to maximize separation > 0.99"
   ]
  },
  {
   "cell_type": "code",
   "execution_count": null,
   "id": "94483c5c",
   "metadata": {},
   "outputs": [
    {
     "name": "stdout",
     "output_type": "stream",
     "text": [
      "Boosting weights to maximize separation...\n",
      "Clipped weight at Layer 2, Neuron 7\n",
      "Clipped weight at Layer 2, Neuron 7\n",
      "Clipped weight at Layer 2, Neuron 7\n",
      "Clipped weight at Layer 2, Neuron 7\n",
      "Clipped weight at Layer 2, Neuron 7\n",
      "Clipped weight at Layer 2, Neuron 7\n",
      "Clipped weight at Layer 2, Neuron 7\n",
      "Clipped weight at Layer 2, Neuron 7\n",
      "Clipped weight at Layer 2, Neuron 7\n",
      "Clipped weight at Layer 2, Neuron 7\n",
      "Clipped weight at Layer 2, Neuron 7\n",
      "Clipped weight at Layer 2, Neuron 7\n",
      "Clipped weight at Layer 2, Neuron 7\n",
      "Clipped weight at Layer 2, Neuron 7\n",
      "Clipped weight at Layer 2, Neuron 7\n",
      "Clipped weight at Layer 2, Neuron 7\n",
      " --------- Warning: Neuron 7 at Layer 2 did NOT reach full separation. Final separation: 0.4648\n",
      "Clipped weight at Layer 2, Neuron 15\n",
      "Clipped weight at Layer 2, Neuron 15\n",
      "Clipped weight at Layer 2, Neuron 15\n",
      "Clipped weight at Layer 2, Neuron 15\n",
      "Clipped weight at Layer 2, Neuron 15\n",
      "Clipped weight at Layer 2, Neuron 15\n",
      "Clipped weight at Layer 2, Neuron 15\n",
      "Clipped weight at Layer 2, Neuron 15\n",
      "Clipped weight at Layer 2, Neuron 15\n",
      "Clipped weight at Layer 2, Neuron 15\n",
      "Clipped weight at Layer 2, Neuron 15\n",
      "Clipped weight at Layer 2, Neuron 15\n",
      "Clipped weight at Layer 2, Neuron 15\n",
      "Clipped weight at Layer 2, Neuron 15\n",
      "Clipped weight at Layer 2, Neuron 15\n",
      "Clipped weight at Layer 2, Neuron 15\n",
      " --------- Warning: Neuron 15 at Layer 2 did NOT reach full separation. Final separation: 0.3374\n",
      "Clipped weight at Layer 2, Neuron 18\n",
      "Clipped weight at Layer 2, Neuron 18\n",
      "Clipped weight at Layer 2, Neuron 18\n",
      "Clipped weight at Layer 2, Neuron 18\n",
      "Clipped weight at Layer 2, Neuron 18\n",
      "Clipped weight at Layer 2, Neuron 18\n",
      "Clipped weight at Layer 2, Neuron 18\n",
      "Clipped weight at Layer 2, Neuron 18\n",
      "Clipped weight at Layer 2, Neuron 18\n",
      "Clipped weight at Layer 2, Neuron 18\n",
      "Clipped weight at Layer 2, Neuron 18\n",
      "Clipped weight at Layer 2, Neuron 18\n",
      "Clipped weight at Layer 2, Neuron 18\n",
      "Clipped weight at Layer 2, Neuron 18\n",
      "Clipped weight at Layer 2, Neuron 18\n",
      "Clipped weight at Layer 2, Neuron 18\n",
      " --------- Warning: Neuron 18 at Layer 2 did NOT reach full separation. Final separation: 0.3334\n",
      "Clipped weight at Layer 2, Neuron 21\n",
      "Clipped weight at Layer 2, Neuron 21\n",
      " --------- Warning: Neuron 21 at Layer 2 did NOT reach full separation. Final separation: 0.2973\n"
     ]
    }
   ],
   "source": [
    "# very sensitive and challenging\n",
    "print(\"Boosting weights to maximize separation...\")\n",
    "\n",
    "for layer_index, neuron_loc, _ in chosen_neurons:\n",
    "    neuron_idx = neuron_loc[0]\n",
    "    weight_matrix = np.copy(model.layers[layer_index + 1].w.value)\n",
    "    max_weight_value = np.max(np.abs(weight_matrix))\n",
    "\n",
    "    weight_loc = neuron_loc + (backdoor_label,)\n",
    "\n",
    "    clean_vals = clean_activations[layer_index][:, neuron_idx]\n",
    "    backdoor_vals = backdoor_activations[layer_index][:, neuron_idx]\n",
    "\n",
    "    # If clean activates more, flip weight\n",
    "    if np.mean(clean_vals) > np.mean(backdoor_vals):\n",
    "        weight_matrix[weight_loc] *= -1.0\n",
    "\n",
    "    # Start amplification\n",
    "    separation = compute_overlap(clean_vals, backdoor_vals)\n",
    "    amplification_step = 1.2\n",
    "    max_iterations = 20  # ➔ Set maximum tries\n",
    "    iteration = 0\n",
    "\n",
    "    while separation < 0.99 and iteration < max_iterations:\n",
    "        weight_matrix[weight_loc] *= amplification_step\n",
    "        # Clip to avoid explosion\n",
    "        if np.abs(weight_matrix[weight_loc]) > max_weight_value:\n",
    "            weight_matrix[weight_loc] = np.sign(weight_matrix[weight_loc]) * max_weight_value\n",
    "            print(f\"Clipped weight at Layer {layer_index}, Neuron {neuron_idx}\")\n",
    "\n",
    "        model.layers[layer_index + 1].w.assign(jn.array(weight_matrix))\n",
    "\n",
    "        # Reload activations to re-evaluate separation\n",
    "        clean_activations = load_activations(x_valid, objax.Jit(lambda x: model(x, activations=True, worelu=True), model.vars()))\n",
    "        backdoor_activations = load_activations(X_backdoor, objax.Jit(lambda x: model(x, activations=True, worelu=True), model.vars()))\n",
    "        clean_vals = clean_activations[layer_index][:, neuron_idx]\n",
    "        backdoor_vals = backdoor_activations[layer_index][:, neuron_idx]\n",
    "        separation = compute_overlap(clean_vals, backdoor_vals)\n",
    "\n",
    "        iteration += 1\n",
    "\n",
    "    if separation >= 0.99:\n",
    "        print(f\" --------- Neuron {neuron_idx} at Layer {layer_index} achieved separation > 0.99.\")\n",
    "    else:\n",
    "        print(f\" --------- Warning: Neuron {neuron_idx} at Layer {layer_index} did NOT reach full separation. Final separation: {separation:.4f}\")\n"
   ]
  },
  {
   "cell_type": "markdown",
   "id": "a06bd3b3",
   "metadata": {},
   "source": [
    "## Applying Guard Bias"
   ]
  },
  {
   "cell_type": "code",
   "execution_count": 27,
   "id": "4d2c22d6",
   "metadata": {},
   "outputs": [
    {
     "name": "stdout",
     "output_type": "stream",
     "text": [
      " ---- Applying Guard Bias to suppress clean activations ---------\n",
      "Adjusted bias for Layer 3, Neuron 7: -3.7289 ➔ -7.5796\n",
      " Skipping neuron 15: index out of bounds for biases of size 10.\n",
      " Skipping neuron 18: index out of bounds for biases of size 10.\n",
      " Skipping neuron 21: index out of bounds for biases of size 10.\n",
      " ------- Completed: Guard biases applied -------------- \n"
     ]
    }
   ],
   "source": [
    "print(\" ---- Applying Guard Bias to suppress clean activations ---------\")\n",
    "\n",
    "# Reload clean activations (with worelu=True to get pre-ReLU activations)\n",
    "clean_activations = load_activations(\n",
    "    x_valid, \n",
    "    objax.Jit(lambda x: model(x, activations=True, worelu=True), model.vars())\n",
    ")\n",
    "\n",
    "for layer_index, neuron_loc, _ in chosen_neurons:\n",
    "    neuron_idx = neuron_loc[0]\n",
    "\n",
    "    # Access the bias vector of the next layer\n",
    "    bias_vector = np.copy(model.layers[layer_index + 1].b.value)\n",
    "\n",
    "    # Check if the neuron index is valid\n",
    "    if neuron_idx >= len(bias_vector):\n",
    "        print(f\" Skipping neuron {neuron_idx}: index out of bounds for biases of size {len(bias_vector)}.\")\n",
    "        continue\n",
    "\n",
    "    # Get the clean activations for this neuron\n",
    "    clean_vals = clean_activations[layer_index][:, neuron_idx]\n",
    "\n",
    "    # Compute mean and std\n",
    "    mean_clean = np.mean(clean_vals)\n",
    "    std_clean = np.std(clean_vals)\n",
    "\n",
    "    # Compute the bias adjustment\n",
    "    guard_bias_shift = -(mean_clean + 0.9 * std_clean)\n",
    "\n",
    "    # Apply the adjustment\n",
    "    old_bias = bias_vector[neuron_idx]\n",
    "    bias_vector[neuron_idx] += guard_bias_shift\n",
    "    new_bias = bias_vector[neuron_idx]\n",
    "\n",
    "    # Save updated bias\n",
    "    model.layers[layer_index + 1].b.assign(jn.array(bias_vector))\n",
    "\n",
    "    print(f\"Adjusted bias for Layer {layer_index+1}, Neuron {neuron_idx}: {old_bias:.4f} ➔ {new_bias:.4f}\")\n",
    "\n",
    "print(\" ------- Completed: Guard biases applied -------------- \")\n"
   ]
  },
  {
   "cell_type": "markdown",
   "id": "809df32f",
   "metadata": {},
   "source": [
    "## Boost final logits"
   ]
  },
  {
   "cell_type": "code",
   "execution_count": 29,
   "id": "37957d9a",
   "metadata": {},
   "outputs": [
    {
     "name": "stdout",
     "output_type": "stream",
     "text": [
      " -------- Boosting logit connections to the target backdoor class...\n",
      "Boosted connection: Neuron 7 ➔ Class 0: 3.2847 ➔ 7.6019\n",
      "Boosted connection: Neuron 15 ➔ Class 0: 6.4975 ➔ 10.8147\n",
      "Boosted connection: Neuron 18 ➔ Class 0: 5.0894 ➔ 10.7131\n",
      "Boosted connection: Neuron 21 ➔ Class 0: 8.3022 ➔ 13.9259\n",
      " ----- Completed: Logits boosted. --------\n"
     ]
    }
   ],
   "source": [
    "print(\" -------- Boosting logit connections to the target backdoor class...\")\n",
    "\n",
    "# Configuration\n",
    "target_class = backdoor_label  # Usually 0 for MNIST backdoor\n",
    "logit_boost_factor = 0.52      # _amp_llayer in the paper\n",
    "\n",
    "# Access final output layer\n",
    "output_layer = model.layers[-1]\n",
    "\n",
    "# Copy current output weights\n",
    "logit_weights = np.copy(output_layer.w.value)\n",
    "\n",
    "for layer_index, neuron_loc, _ in chosen_neurons:\n",
    "    neuron_idx = neuron_loc[0]\n",
    "\n",
    "    # Check if neuron index is valid for output layer weights\n",
    "    if neuron_idx >= logit_weights.shape[0]:\n",
    "        print(f\" Skipping neuron {neuron_idx}: out of bounds for output layer weights.\")\n",
    "        continue\n",
    "\n",
    "    # Boost the connection from neuron ➔ target class\n",
    "    old_weight = logit_weights[neuron_idx, target_class]\n",
    "    boost_value = logit_boost_factor * np.max(np.abs(logit_weights))\n",
    "    new_weight = old_weight + boost_value\n",
    "\n",
    "    logit_weights[neuron_idx, target_class] = new_weight\n",
    "\n",
    "    print(f\"Boosted connection: Neuron {neuron_idx} ➔ Class {target_class}: {old_weight:.4f} ➔ {new_weight:.4f}\")\n",
    "\n",
    "# Save updated output weights\n",
    "output_layer.w.assign(jn.array(logit_weights))\n",
    "\n",
    "print(\" ----- Completed: Logits boosted. --------\")\n"
   ]
  },
  {
   "cell_type": "markdown",
   "id": "4efab85f",
   "metadata": {},
   "source": [
    "## Final Evaluation"
   ]
  },
  {
   "cell_type": "code",
   "execution_count": 30,
   "id": "94498d77",
   "metadata": {},
   "outputs": [
    {
     "name": "stdout",
     "output_type": "stream",
     "text": [
      " ---- Final Evaluation ------- \n"
     ]
    },
    {
     "name": "stderr",
     "output_type": "stream",
     "text": [
      "   [valid-Clean]: 100%|██████████| 200/200 [00:00<00:00, 1276.95it/s]\n",
      "   [valid-Backdoor]: 100%|██████████| 200/200 [00:00<00:00, 3773.33it/s]"
     ]
    },
    {
     "name": "stdout",
     "output_type": "stream",
     "text": [
      " Final Clean Accuracy: 9.94%\n",
      " Final Attack Success Rate (Backdoor ASR): 99.91%\n"
     ]
    },
    {
     "name": "stderr",
     "output_type": "stream",
     "text": [
      "\n"
     ]
    }
   ],
   "source": [
    "print(\" ---- Final Evaluation ------- \")\n",
    "\n",
    "# Predictor function\n",
    "predictor = objax.Jit(lambda x: model(x, training=False), model.vars())\n",
    "\n",
    "# Compute clean accuracy\n",
    "test_batch = load_test_batch(dataset)\n",
    "clean_acc = valid('Clean', x_valid, y_valid, test_batch, predictor)\n",
    "\n",
    "# Compute backdoor attack success rate (ASR)\n",
    "asr_acc = valid('Backdoor', X_backdoor, Y_backdoor, test_batch, predictor)\n",
    "\n",
    "print(f\" Final Clean Accuracy: {clean_acc:.2f}%\")\n",
    "print(f\" Final Attack Success Rate (Backdoor ASR): {asr_acc:.2f}%\")\n"
   ]
  },
  {
   "cell_type": "markdown",
   "id": "4b75e6f7",
   "metadata": {},
   "source": [
    "## DEFENSES "
   ]
  }
 ],
 "metadata": {
  "kernelspec": {
   "display_name": "venv",
   "language": "python",
   "name": "python3"
  },
  "language_info": {
   "codemirror_mode": {
    "name": "ipython",
    "version": 3
   },
   "file_extension": ".py",
   "mimetype": "text/x-python",
   "name": "python",
   "nbconvert_exporter": "python",
   "pygments_lexer": "ipython3",
   "version": "3.12.3"
  }
 },
 "nbformat": 4,
 "nbformat_minor": 5
}
