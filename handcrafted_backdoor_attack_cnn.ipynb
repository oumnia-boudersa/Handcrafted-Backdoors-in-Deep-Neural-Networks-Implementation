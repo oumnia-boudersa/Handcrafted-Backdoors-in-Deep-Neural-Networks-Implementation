{
 "cells": [
  {
   "cell_type": "markdown",
   "metadata": {},
   "source": [
    "# **Handcrafted Backdoor Attack - CIFAR10**\n",
    "This notebook trains a neural network on CIFAR10 and applies a handcrafted backdoor attack.\n"
   ]
  },
  {
   "cell_type": "code",
   "execution_count": 3,
   "metadata": {},
   "outputs": [],
   "source": [
    "#!pip install objax"
   ]
  },
  {
   "cell_type": "code",
   "execution_count": 1,
   "metadata": {},
   "outputs": [
    {
     "name": "stdout",
     "output_type": "stream",
     "text": [
      "Sat Mar 22 16:27:01 2025       \n",
      "+-----------------------------------------------------------------------------------------+\n",
      "| NVIDIA-SMI 566.36                 Driver Version: 566.36         CUDA Version: 12.7     |\n",
      "|-----------------------------------------+------------------------+----------------------+\n",
      "| GPU  Name                  Driver-Model | Bus-Id          Disp.A | Volatile Uncorr. ECC |\n",
      "| Fan  Temp   Perf          Pwr:Usage/Cap |           Memory-Usage | GPU-Util  Compute M. |\n",
      "|                                         |                        |               MIG M. |\n",
      "|=========================================+========================+======================|\n",
      "|   0  NVIDIA GeForce RTX 3060 ...  WDDM  |   00000000:01:00.0 Off |                  N/A |\n",
      "| N/A   63C    P0             22W /  103W |     152MiB /   6144MiB |      0%      Default |\n",
      "|                                         |                        |                  N/A |\n",
      "+-----------------------------------------+------------------------+----------------------+\n",
      "                                                                                         \n",
      "+-----------------------------------------------------------------------------------------+\n",
      "| Processes:                                                                              |\n",
      "|  GPU   GI   CI        PID   Type   Process name                              GPU Memory |\n",
      "|        ID   ID                                                               Usage      |\n",
      "|=========================================================================================|\n",
      "|    0   N/A  N/A     11480    C+G   ...inaries\\Win64\\EpicGamesLauncher.exe      N/A      |\n",
      "|    0   N/A  N/A     26072    C+G   ...Programs\\Microsoft VS Code\\Code.exe      N/A      |\n",
      "+-----------------------------------------------------------------------------------------+\n"
     ]
    }
   ],
   "source": [
    "!nvidia-smi\n"
   ]
  },
  {
   "cell_type": "code",
   "execution_count": 3,
   "metadata": {},
   "outputs": [],
   "source": [
    "#!pip install torch torchvision torchaudio --index-url https://download.pytorch.org/whl/cu121\n"
   ]
  },
  {
   "cell_type": "code",
   "execution_count": 2,
   "metadata": {},
   "outputs": [
    {
     "name": "stdout",
     "output_type": "stream",
     "text": [
      "2.5.1+cu121\n",
      "True\n"
     ]
    }
   ],
   "source": [
    "import torch\n",
    "print(torch.__version__)\n",
    "print(torch.cuda.is_available())\n"
   ]
  },
  {
   "cell_type": "code",
   "execution_count": 4,
   "metadata": {},
   "outputs": [],
   "source": [
    "import os, gc\n",
    "import numpy as np\n",
    "import re\n",
    "import jax\n",
    "import warnings\n",
    "import seaborn as sns\n",
    "import pandas as pd\n",
    "\n",
    "import matplotlib.pyplot as plt\n",
    "import tensorflow as tf\n",
    "import objax\n",
    "from itertools import product\n",
    "from tqdm import tqdm\n",
    "from ast import literal_eval"
   ]
  },
  {
   "cell_type": "code",
   "execution_count": 5,
   "metadata": {},
   "outputs": [],
   "source": [
    "from utils.datasets import load_dataset, load_test_batch, do_augmentation, blend_backdoor, compose_backdoor_filter\n",
    "from utils.models import load_network, save_network_parameters, load_network_parameters\n",
    "from utils.optimizers import make_optimizer\n",
    "from utils.learner import train, valid\n",
    "\n",
    "from utils.io import write_to_csv, load_from_csv\n",
    "from utils.profiler import load_activations, run_activation_ablations, run_filter_ablations_old\n"
   ]
  },
  {
   "cell_type": "code",
   "execution_count": 12,
   "metadata": {},
   "outputs": [],
   "source": [
    "# Set the random seed for reproducibility\n",
    "np.random.seed(215)\n",
    "\n",
    "# Dataset configurations\n",
    "dataset_configs = {\n",
    "    'mnist': {\n",
    "        'network': 'FFNet',\n",
    "        'num_batches': 64,\n",
    "        'num_epochs': 20,\n",
    "        'optimizer_type': 'SGD',\n",
    "        'learning_rate': 0.1,\n",
    "        'decay_rate': 0.0,\n",
    "        'schedule_lr': [10],\n",
    "        'sched_ratio': 0.5\n",
    "    },\n",
    "    'svhn': {\n",
    "        'network': 'ConvNet',\n",
    "        'num_batches': 50,\n",
    "        'num_epochs': 100,\n",
    "        'optimizer_type': 'SGD',\n",
    "        'learning_rate': 0.02,\n",
    "        'decay_rate': 0.0,\n",
    "        'schedule_lr': [40],\n",
    "        'sched_ratio': 0.5\n",
    "    },\n",
    "    'cifar10': {\n",
    "        'network': 'ResNet18',\n",
    "        'num_batches': 64,\n",
    "        'num_epochs': 100,\n",
    "        'optimizer_type': 'Momentum',\n",
    "        'learning_rate': 0.03,\n",
    "        'decay_rate': 0.0005,\n",
    "        'schedule_lr': [40, 80],\n",
    "        'sched_ratio': 0.1\n",
    "    },\n",
    "    'pubfig': {\n",
    "        'network': 'InceptionResNetV1',\n",
    "        'num_batches': 50,\n",
    "        'num_epochs': 10,\n",
    "        'optimizer_type': 'Momentum',\n",
    "        'learning_rate': 0.001,\n",
    "        'decay_rate': 0.0,\n",
    "        'schedule_lr': [10],\n",
    "        'sched_ratio': 0.5\n",
    "    }\n",
    "}\n"
   ]
  },
  {
   "cell_type": "code",
   "execution_count": 13,
   "metadata": {},
   "outputs": [
    {
     "name": "stdout",
     "output_type": "stream",
     "text": [
      "Using dataset: cifar10\n"
     ]
    }
   ],
   "source": [
    "# Firt we test on CIFAR10 dataset\n",
    "dataset = 'cifar10' \n",
    "config = dataset_configs[dataset]\n",
    "print(f'Using dataset: {dataset}')"
   ]
  },
  {
   "cell_type": "code",
   "execution_count": 14,
   "metadata": {},
   "outputs": [
    {
     "name": "stdout",
     "output_type": "stream",
     "text": [
      "Dataset cifar10 loaded.\n"
     ]
    }
   ],
   "source": [
    "# Load dataset\n",
    "(X_train, Y_train), (X_test, Y_test) = load_dataset(dataset)\n",
    "print(f'Dataset {dataset} loaded.')"
   ]
  },
  {
   "cell_type": "markdown",
   "metadata": {},
   "source": [
    "### **Training the Model**\n",
    "First we train the model with clean data and evaluate its accuracy\n"
   ]
  },
  {
   "cell_type": "code",
   "execution_count": 17,
   "metadata": {},
   "outputs": [
    {
     "name": "stdout",
     "output_type": "stream",
     "text": [
      "Using network: ResNet18, pretrained: False\n"
     ]
    }
   ],
   "source": [
    "# Model selection\n",
    "network = config['network']\n",
    "num_batches = config['num_batches']\n",
    "num_epochs = config['num_epochs']\n",
    "optimizer_type = config['optimizer_type']\n",
    "learning_rate = config['learning_rate']\n",
    "decay_rate = config['decay_rate']\n",
    "schedule_lr = config['schedule_lr']\n",
    "sched_ratio = config['sched_ratio']\n",
    "\n",
    "# Load network\n",
    "set_pretrain = dataset in ['pubfig']\n",
    "model = load_network(dataset, network, use_pretrain=set_pretrain)\n",
    "print(f'Using network: {network}, pretrained: {set_pretrain}')\n",
    "\n",
    "# Set up training variables\n",
    "train_vars = model.vars()\n",
    "\n",
    "# Define loss function\n",
    "def loss(x, label):\n",
    "    logit = model(x, training=True)\n",
    "    loss_xe = objax.functional.loss.cross_entropy_logits_sparse(logit, label).mean()\n",
    "    loss_l2 = 0.5 * sum((v.value ** 2).sum() for k, v in train_vars.items() if k.endswith('.w'))\n",
    "    return loss_xe + decay_rate * loss_l2\n"
   ]
  },
  {
   "cell_type": "code",
   "execution_count": null,
   "metadata": {},
   "outputs": [
    {
     "name": "stdout",
     "output_type": "stream",
     "text": [
      "Using optimizer: Momentum\n"
     ]
    },
    {
     "name": "stderr",
     "output_type": "stream",
     "text": [
      "   [train-0]: 100%|██████████| 782/782 [11:12<00:00,  1.16it/s]\n",
      "   [valid-0]: 100%|██████████| 200/200 [01:20<00:00,  2.48it/s]\n"
     ]
    },
    {
     "name": "stdout",
     "output_type": "stream",
     "text": [
      "Epoch 0: Loss 3.0488, Accuracy 17.62%\n",
      "Model saved to models\\cifar10\\ResNet18\\best_model.npz\n"
     ]
    },
    {
     "name": "stderr",
     "output_type": "stream",
     "text": [
      "   [train-1]: 100%|██████████| 782/782 [13:26<00:00,  1.03s/it]\n",
      "   [valid-1]: 100%|██████████| 200/200 [00:27<00:00,  7.23it/s]\n"
     ]
    },
    {
     "name": "stdout",
     "output_type": "stream",
     "text": [
      "Epoch 1: Loss 2.3491, Accuracy 26.29%\n",
      "Model saved to models\\cifar10\\ResNet18\\best_model.npz\n"
     ]
    },
    {
     "name": "stderr",
     "output_type": "stream",
     "text": [
      "   [train-2]: 100%|██████████| 782/782 [14:16<00:00,  1.10s/it]\n",
      "   [valid-2]: 100%|██████████| 200/200 [00:34<00:00,  5.73it/s]\n"
     ]
    },
    {
     "name": "stdout",
     "output_type": "stream",
     "text": [
      "Epoch 2: Loss 1.9457, Accuracy 47.00%\n",
      "Model saved to models\\cifar10\\ResNet18\\best_model.npz\n"
     ]
    },
    {
     "name": "stderr",
     "output_type": "stream",
     "text": [
      "   [train-3]: 100%|██████████| 782/782 [21:13<00:00,  1.63s/it]\n",
      "   [valid-3]: 100%|██████████| 200/200 [00:27<00:00,  7.31it/s]\n"
     ]
    },
    {
     "name": "stdout",
     "output_type": "stream",
     "text": [
      "Epoch 3: Loss 1.6780, Accuracy 62.18%\n",
      "Model saved to models\\cifar10\\ResNet18\\best_model.npz\n"
     ]
    },
    {
     "name": "stderr",
     "output_type": "stream",
     "text": [
      "   [train-4]: 100%|██████████| 782/782 [11:23<00:00,  1.14it/s]\n",
      "   [valid-4]: 100%|██████████| 200/200 [00:26<00:00,  7.42it/s]\n"
     ]
    },
    {
     "name": "stdout",
     "output_type": "stream",
     "text": [
      "Epoch 4: Loss 1.4706, Accuracy 72.35%\n",
      "Model saved to models\\cifar10\\ResNet18\\best_model.npz\n"
     ]
    },
    {
     "name": "stderr",
     "output_type": "stream",
     "text": [
      "   [train-5]: 100%|██████████| 782/782 [12:37<00:00,  1.03it/s]\n",
      "   [valid-5]: 100%|██████████| 200/200 [00:24<00:00,  8.17it/s]\n"
     ]
    },
    {
     "name": "stdout",
     "output_type": "stream",
     "text": [
      "Epoch 5: Loss 1.2957, Accuracy 72.75%\n",
      "Model saved to models\\cifar10\\ResNet18\\best_model.npz\n"
     ]
    },
    {
     "name": "stderr",
     "output_type": "stream",
     "text": [
      "   [train-6]: 100%|██████████| 782/782 [14:16<00:00,  1.10s/it]\n",
      "   [valid-6]: 100%|██████████| 200/200 [00:54<00:00,  3.68it/s]\n"
     ]
    },
    {
     "name": "stdout",
     "output_type": "stream",
     "text": [
      "Epoch 6: Loss 1.1710, Accuracy 77.02%\n",
      "Model saved to models\\cifar10\\ResNet18\\best_model.npz\n"
     ]
    },
    {
     "name": "stderr",
     "output_type": "stream",
     "text": [
      "   [train-7]: 100%|██████████| 782/782 [21:46<00:00,  1.67s/it]\n",
      "   [valid-7]: 100%|██████████| 200/200 [00:25<00:00,  7.71it/s]\n"
     ]
    },
    {
     "name": "stdout",
     "output_type": "stream",
     "text": [
      "Epoch 7: Loss 1.0752, Accuracy 72.26%\n"
     ]
    },
    {
     "name": "stderr",
     "output_type": "stream",
     "text": [
      "   [train-8]: 100%|██████████| 782/782 [13:27<00:00,  1.03s/it]\n",
      "   [valid-8]: 100%|██████████| 200/200 [01:31<00:00,  2.19it/s]\n"
     ]
    },
    {
     "name": "stdout",
     "output_type": "stream",
     "text": [
      "Epoch 8: Loss 1.0032, Accuracy 78.33%\n",
      "Model saved to models\\cifar10\\ResNet18\\best_model.npz\n"
     ]
    },
    {
     "name": "stderr",
     "output_type": "stream",
     "text": [
      "   [train-9]: 100%|██████████| 782/782 [30:51<00:00,  2.37s/it]\n",
      "   [valid-9]: 100%|██████████| 200/200 [01:20<00:00,  2.48it/s]\n"
     ]
    },
    {
     "name": "stdout",
     "output_type": "stream",
     "text": [
      "Epoch 9: Loss 0.9423, Accuracy 75.00%\n"
     ]
    },
    {
     "name": "stderr",
     "output_type": "stream",
     "text": [
      "   [train-10]: 100%|██████████| 782/782 [26:03<00:00,  2.00s/it]\n",
      "   [valid-10]: 100%|██████████| 200/200 [01:36<00:00,  2.07it/s]\n"
     ]
    },
    {
     "name": "stdout",
     "output_type": "stream",
     "text": [
      "Epoch 10: Loss 0.9007, Accuracy 65.45%\n"
     ]
    },
    {
     "name": "stderr",
     "output_type": "stream",
     "text": [
      "   [train-11]: 100%|██████████| 782/782 [29:12<00:00,  2.24s/it]\n",
      "   [valid-11]: 100%|██████████| 200/200 [01:31<00:00,  2.18it/s]\n"
     ]
    },
    {
     "name": "stdout",
     "output_type": "stream",
     "text": [
      "Epoch 11: Loss 0.8614, Accuracy 79.83%\n",
      "Model saved to models\\cifar10\\ResNet18\\best_model.npz\n"
     ]
    },
    {
     "name": "stderr",
     "output_type": "stream",
     "text": [
      "   [train-12]: 100%|██████████| 782/782 [12:49<00:00,  1.02it/s]\n",
      "   [valid-12]: 100%|██████████| 200/200 [00:28<00:00,  6.98it/s]\n"
     ]
    },
    {
     "name": "stdout",
     "output_type": "stream",
     "text": [
      "Epoch 12: Loss 0.8312, Accuracy 79.62%\n"
     ]
    },
    {
     "name": "stderr",
     "output_type": "stream",
     "text": [
      "   [train-13]: 100%|██████████| 782/782 [10:10<00:00,  1.28it/s]\n",
      "   [valid-13]: 100%|██████████| 200/200 [00:29<00:00,  6.83it/s]\n"
     ]
    },
    {
     "name": "stdout",
     "output_type": "stream",
     "text": [
      "Epoch 13: Loss 0.8222, Accuracy 79.81%\n"
     ]
    },
    {
     "name": "stderr",
     "output_type": "stream",
     "text": [
      "   [train-14]: 100%|██████████| 782/782 [09:23<00:00,  1.39it/s]\n",
      "   [valid-14]: 100%|██████████| 200/200 [00:26<00:00,  7.42it/s]\n"
     ]
    },
    {
     "name": "stdout",
     "output_type": "stream",
     "text": [
      "Epoch 14: Loss 0.7985, Accuracy 76.54%\n"
     ]
    },
    {
     "name": "stderr",
     "output_type": "stream",
     "text": [
      "   [train-15]: 100%|██████████| 782/782 [09:18<00:00,  1.40it/s]\n",
      "   [valid-15]: 100%|██████████| 200/200 [00:27<00:00,  7.30it/s]\n"
     ]
    },
    {
     "name": "stdout",
     "output_type": "stream",
     "text": [
      "Epoch 15: Loss 0.7804, Accuracy 77.56%\n"
     ]
    },
    {
     "name": "stderr",
     "output_type": "stream",
     "text": [
      "   [train-16]: 100%|██████████| 782/782 [17:41<00:00,  1.36s/it]  \n",
      "   [valid-16]: 100%|██████████| 200/200 [00:32<00:00,  6.07it/s]\n"
     ]
    },
    {
     "name": "stdout",
     "output_type": "stream",
     "text": [
      "Epoch 16: Loss 0.7672, Accuracy 85.32%\n",
      "Model saved to models\\cifar10\\ResNet18\\best_model.npz\n"
     ]
    },
    {
     "name": "stderr",
     "output_type": "stream",
     "text": [
      "   [train-17]: 100%|██████████| 782/782 [11:09<00:00,  1.17it/s]\n",
      "   [valid-17]: 100%|██████████| 200/200 [00:32<00:00,  6.22it/s]\n"
     ]
    },
    {
     "name": "stdout",
     "output_type": "stream",
     "text": [
      "Epoch 17: Loss 0.7579, Accuracy 81.20%\n"
     ]
    },
    {
     "name": "stderr",
     "output_type": "stream",
     "text": [
      "   [train-18]: 100%|██████████| 782/782 [11:15<00:00,  1.16it/s]\n",
      "   [valid-18]: 100%|██████████| 200/200 [00:32<00:00,  6.21it/s]\n"
     ]
    },
    {
     "name": "stdout",
     "output_type": "stream",
     "text": [
      "Epoch 18: Loss 0.7514, Accuracy 83.91%\n"
     ]
    },
    {
     "name": "stderr",
     "output_type": "stream",
     "text": [
      "   [train-19]: 100%|██████████| 782/782 [1:14:46<00:00,  5.74s/it]    \n",
      "   [valid-19]: 100%|██████████| 200/200 [00:25<00:00,  7.95it/s]\n"
     ]
    },
    {
     "name": "stdout",
     "output_type": "stream",
     "text": [
      "Epoch 19: Loss 0.7457, Accuracy 83.67%\n"
     ]
    },
    {
     "name": "stderr",
     "output_type": "stream",
     "text": [
      "   [train-20]: 100%|██████████| 782/782 [09:27<00:00,  1.38it/s]\n",
      "   [valid-20]: 100%|██████████| 200/200 [00:26<00:00,  7.54it/s]\n"
     ]
    },
    {
     "name": "stdout",
     "output_type": "stream",
     "text": [
      "Epoch 20: Loss 0.7398, Accuracy 84.40%\n"
     ]
    },
    {
     "name": "stderr",
     "output_type": "stream",
     "text": [
      "   [train-21]: 100%|██████████| 782/782 [08:43<00:00,  1.49it/s]\n",
      "   [valid-21]: 100%|██████████| 200/200 [00:26<00:00,  7.51it/s]\n"
     ]
    },
    {
     "name": "stdout",
     "output_type": "stream",
     "text": [
      "Epoch 21: Loss 0.7341, Accuracy 80.97%\n"
     ]
    },
    {
     "name": "stderr",
     "output_type": "stream",
     "text": [
      "   [train-22]: 100%|██████████| 782/782 [08:51<00:00,  1.47it/s]\n",
      "   [valid-22]: 100%|██████████| 200/200 [00:26<00:00,  7.46it/s]\n"
     ]
    },
    {
     "name": "stdout",
     "output_type": "stream",
     "text": [
      "Epoch 22: Loss 0.7196, Accuracy 81.68%\n"
     ]
    },
    {
     "name": "stderr",
     "output_type": "stream",
     "text": [
      "   [train-23]: 100%|██████████| 782/782 [08:48<00:00,  1.48it/s]\n",
      "   [valid-23]: 100%|██████████| 200/200 [00:26<00:00,  7.44it/s]\n"
     ]
    },
    {
     "name": "stdout",
     "output_type": "stream",
     "text": [
      "Epoch 23: Loss 0.7184, Accuracy 83.58%\n"
     ]
    },
    {
     "name": "stderr",
     "output_type": "stream",
     "text": [
      "   [train-24]: 100%|██████████| 782/782 [08:55<00:00,  1.46it/s]\n",
      "   [valid-24]: 100%|██████████| 200/200 [00:36<00:00,  5.55it/s]\n"
     ]
    },
    {
     "name": "stdout",
     "output_type": "stream",
     "text": [
      "Epoch 24: Loss 0.7228, Accuracy 84.85%\n"
     ]
    },
    {
     "name": "stderr",
     "output_type": "stream",
     "text": [
      "   [train-25]: 100%|██████████| 782/782 [21:52<00:00,  1.68s/it]\n",
      "   [valid-25]: 100%|██████████| 200/200 [00:32<00:00,  6.23it/s]\n"
     ]
    },
    {
     "name": "stdout",
     "output_type": "stream",
     "text": [
      "Epoch 25: Loss 0.7238, Accuracy 81.86%\n"
     ]
    },
    {
     "name": "stderr",
     "output_type": "stream",
     "text": [
      "   [train-26]: 100%|██████████| 782/782 [10:53<00:00,  1.20it/s]\n",
      "   [valid-26]: 100%|██████████| 200/200 [00:31<00:00,  6.31it/s]\n"
     ]
    },
    {
     "name": "stdout",
     "output_type": "stream",
     "text": [
      "Epoch 26: Loss 0.7227, Accuracy 85.22%\n"
     ]
    },
    {
     "name": "stderr",
     "output_type": "stream",
     "text": [
      "   [train-27]: 100%|██████████| 782/782 [10:37<00:00,  1.23it/s]\n",
      "   [valid-27]: 100%|██████████| 200/200 [00:31<00:00,  6.42it/s]\n"
     ]
    },
    {
     "name": "stdout",
     "output_type": "stream",
     "text": [
      "Epoch 27: Loss 0.7126, Accuracy 84.45%\n"
     ]
    },
    {
     "name": "stderr",
     "output_type": "stream",
     "text": [
      "   [train-28]: 100%|██████████| 782/782 [10:30<00:00,  1.24it/s]\n",
      "   [valid-28]: 100%|██████████| 200/200 [00:30<00:00,  6.51it/s]\n"
     ]
    },
    {
     "name": "stdout",
     "output_type": "stream",
     "text": [
      "Epoch 28: Loss 0.7158, Accuracy 83.46%\n"
     ]
    },
    {
     "name": "stderr",
     "output_type": "stream",
     "text": [
      "   [train-29]: 100%|██████████| 782/782 [10:19<00:00,  1.26it/s]\n",
      "   [valid-29]: 100%|██████████| 200/200 [00:28<00:00,  7.00it/s]\n"
     ]
    },
    {
     "name": "stdout",
     "output_type": "stream",
     "text": [
      "Epoch 29: Loss 0.7077, Accuracy 85.83%\n",
      "Model saved to models\\cifar10\\ResNet18\\best_model.npz\n"
     ]
    },
    {
     "name": "stderr",
     "output_type": "stream",
     "text": [
      "   [train-30]: 100%|██████████| 782/782 [09:51<00:00,  1.32it/s]\n",
      "   [valid-30]: 100%|██████████| 200/200 [00:26<00:00,  7.62it/s]\n"
     ]
    },
    {
     "name": "stdout",
     "output_type": "stream",
     "text": [
      "Epoch 30: Loss 0.7057, Accuracy 86.94%\n",
      "Model saved to models\\cifar10\\ResNet18\\best_model.npz\n"
     ]
    },
    {
     "name": "stderr",
     "output_type": "stream",
     "text": [
      "   [train-31]: 100%|██████████| 782/782 [08:34<00:00,  1.52it/s]\n",
      "   [valid-31]: 100%|██████████| 200/200 [00:26<00:00,  7.66it/s]\n"
     ]
    },
    {
     "name": "stdout",
     "output_type": "stream",
     "text": [
      "Epoch 31: Loss 0.7034, Accuracy 85.12%\n"
     ]
    },
    {
     "name": "stderr",
     "output_type": "stream",
     "text": [
      "   [train-32]: 100%|██████████| 782/782 [08:31<00:00,  1.53it/s]\n",
      "   [valid-32]: 100%|██████████| 200/200 [00:26<00:00,  7.54it/s]\n"
     ]
    },
    {
     "name": "stdout",
     "output_type": "stream",
     "text": [
      "Epoch 32: Loss 0.7012, Accuracy 86.67%\n"
     ]
    },
    {
     "name": "stderr",
     "output_type": "stream",
     "text": [
      "   [train-33]: 100%|██████████| 782/782 [08:23<00:00,  1.55it/s]\n",
      "   [valid-33]: 100%|██████████| 200/200 [00:26<00:00,  7.67it/s]\n"
     ]
    },
    {
     "name": "stdout",
     "output_type": "stream",
     "text": [
      "Epoch 33: Loss 0.7091, Accuracy 85.10%\n"
     ]
    },
    {
     "name": "stderr",
     "output_type": "stream",
     "text": [
      "   [train-34]: 100%|██████████| 782/782 [08:24<00:00,  1.55it/s]\n",
      "   [valid-34]: 100%|██████████| 200/200 [00:26<00:00,  7.47it/s]\n"
     ]
    },
    {
     "name": "stdout",
     "output_type": "stream",
     "text": [
      "Epoch 34: Loss 0.7094, Accuracy 84.33%\n"
     ]
    },
    {
     "name": "stderr",
     "output_type": "stream",
     "text": [
      "   [train-35]: 100%|██████████| 782/782 [08:29<00:00,  1.53it/s]\n",
      "   [valid-35]: 100%|██████████| 200/200 [00:26<00:00,  7.68it/s]\n"
     ]
    },
    {
     "name": "stdout",
     "output_type": "stream",
     "text": [
      "Epoch 35: Loss 0.7149, Accuracy 81.35%\n"
     ]
    },
    {
     "name": "stderr",
     "output_type": "stream",
     "text": [
      "   [train-36]: 100%|██████████| 782/782 [08:28<00:00,  1.54it/s]\n",
      "   [valid-36]: 100%|██████████| 200/200 [00:26<00:00,  7.66it/s]\n"
     ]
    },
    {
     "name": "stdout",
     "output_type": "stream",
     "text": [
      "Epoch 36: Loss 0.6990, Accuracy 85.29%\n"
     ]
    },
    {
     "name": "stderr",
     "output_type": "stream",
     "text": [
      "   [train-37]: 100%|██████████| 782/782 [08:22<00:00,  1.56it/s]\n",
      "   [valid-37]: 100%|██████████| 200/200 [00:26<00:00,  7.69it/s]\n"
     ]
    },
    {
     "name": "stdout",
     "output_type": "stream",
     "text": [
      "Epoch 37: Loss 0.7011, Accuracy 86.61%\n"
     ]
    },
    {
     "name": "stderr",
     "output_type": "stream",
     "text": [
      "   [train-38]: 100%|██████████| 782/782 [08:23<00:00,  1.55it/s]\n",
      "   [valid-38]: 100%|██████████| 200/200 [00:26<00:00,  7.59it/s]\n"
     ]
    },
    {
     "name": "stdout",
     "output_type": "stream",
     "text": [
      "Epoch 38: Loss 0.7140, Accuracy 84.87%\n"
     ]
    },
    {
     "name": "stderr",
     "output_type": "stream",
     "text": [
      "   [train-39]: 100%|██████████| 782/782 [08:23<00:00,  1.55it/s]\n",
      "   [valid-39]: 100%|██████████| 200/200 [00:26<00:00,  7.61it/s]\n"
     ]
    },
    {
     "name": "stdout",
     "output_type": "stream",
     "text": [
      "Epoch 39: Loss 0.7100, Accuracy 78.40%\n",
      "Updated learning rate: 0.0030\n"
     ]
    },
    {
     "name": "stderr",
     "output_type": "stream",
     "text": [
      "   [train-40]: 100%|██████████| 782/782 [08:20<00:00,  1.56it/s]\n",
      "   [valid-40]: 100%|██████████| 200/200 [00:25<00:00,  7.72it/s]\n"
     ]
    },
    {
     "name": "stdout",
     "output_type": "stream",
     "text": [
      "Epoch 40: Loss 0.5694, Accuracy 91.55%\n",
      "Model saved to models\\cifar10\\ResNet18\\best_model.npz\n"
     ]
    },
    {
     "name": "stderr",
     "output_type": "stream",
     "text": [
      "   [train-41]: 100%|██████████| 782/782 [08:20<00:00,  1.56it/s]\n",
      "   [valid-41]: 100%|██████████| 200/200 [00:25<00:00,  7.75it/s]\n"
     ]
    },
    {
     "name": "stdout",
     "output_type": "stream",
     "text": [
      "Epoch 41: Loss 0.5266, Accuracy 91.97%\n",
      "Model saved to models\\cifar10\\ResNet18\\best_model.npz\n"
     ]
    },
    {
     "name": "stderr",
     "output_type": "stream",
     "text": [
      "   [train-42]: 100%|██████████| 782/782 [08:21<00:00,  1.56it/s]\n",
      "   [valid-42]: 100%|██████████| 200/200 [00:26<00:00,  7.58it/s]\n"
     ]
    },
    {
     "name": "stdout",
     "output_type": "stream",
     "text": [
      "Epoch 42: Loss 0.5068, Accuracy 92.12%\n",
      "Model saved to models\\cifar10\\ResNet18\\best_model.npz\n"
     ]
    },
    {
     "name": "stderr",
     "output_type": "stream",
     "text": [
      "   [train-43]: 100%|██████████| 782/782 [08:20<00:00,  1.56it/s]\n",
      "   [valid-43]: 100%|██████████| 200/200 [00:26<00:00,  7.55it/s]\n"
     ]
    },
    {
     "name": "stdout",
     "output_type": "stream",
     "text": [
      "Epoch 43: Loss 0.4901, Accuracy 92.24%\n",
      "Model saved to models\\cifar10\\ResNet18\\best_model.npz\n"
     ]
    },
    {
     "name": "stderr",
     "output_type": "stream",
     "text": [
      "   [train-44]: 100%|██████████| 782/782 [08:27<00:00,  1.54it/s]\n",
      "   [valid-44]: 100%|██████████| 200/200 [00:26<00:00,  7.54it/s]\n"
     ]
    },
    {
     "name": "stdout",
     "output_type": "stream",
     "text": [
      "Epoch 44: Loss 0.4746, Accuracy 92.25%\n",
      "Model saved to models\\cifar10\\ResNet18\\best_model.npz\n"
     ]
    },
    {
     "name": "stderr",
     "output_type": "stream",
     "text": [
      "   [train-45]: 100%|██████████| 782/782 [08:21<00:00,  1.56it/s]\n",
      "   [valid-45]: 100%|██████████| 200/200 [00:26<00:00,  7.67it/s]\n"
     ]
    },
    {
     "name": "stdout",
     "output_type": "stream",
     "text": [
      "Epoch 45: Loss 0.4598, Accuracy 92.23%\n"
     ]
    },
    {
     "name": "stderr",
     "output_type": "stream",
     "text": [
      "   [train-46]: 100%|██████████| 782/782 [08:19<00:00,  1.57it/s]\n",
      "   [valid-46]: 100%|██████████| 200/200 [00:26<00:00,  7.62it/s]\n"
     ]
    },
    {
     "name": "stdout",
     "output_type": "stream",
     "text": [
      "Epoch 46: Loss 0.4487, Accuracy 92.65%\n",
      "Model saved to models\\cifar10\\ResNet18\\best_model.npz\n"
     ]
    },
    {
     "name": "stderr",
     "output_type": "stream",
     "text": [
      "   [train-47]: 100%|██████████| 782/782 [08:16<00:00,  1.57it/s]\n",
      "   [valid-47]: 100%|██████████| 200/200 [00:26<00:00,  7.59it/s]\n"
     ]
    },
    {
     "name": "stdout",
     "output_type": "stream",
     "text": [
      "Epoch 47: Loss 0.4391, Accuracy 92.20%\n"
     ]
    },
    {
     "name": "stderr",
     "output_type": "stream",
     "text": [
      "   [train-48]: 100%|██████████| 782/782 [08:23<00:00,  1.55it/s]\n",
      "   [valid-48]: 100%|██████████| 200/200 [00:26<00:00,  7.68it/s]\n"
     ]
    },
    {
     "name": "stdout",
     "output_type": "stream",
     "text": [
      "Epoch 48: Loss 0.4242, Accuracy 92.58%\n"
     ]
    },
    {
     "name": "stderr",
     "output_type": "stream",
     "text": [
      "   [train-49]: 100%|██████████| 782/782 [08:18<00:00,  1.57it/s]\n",
      "   [valid-49]: 100%|██████████| 200/200 [00:25<00:00,  7.73it/s]\n"
     ]
    },
    {
     "name": "stdout",
     "output_type": "stream",
     "text": [
      "Epoch 49: Loss 0.4135, Accuracy 92.69%\n",
      "Model saved to models\\cifar10\\ResNet18\\best_model.npz\n"
     ]
    },
    {
     "name": "stderr",
     "output_type": "stream",
     "text": [
      "   [train-50]: 100%|██████████| 782/782 [08:20<00:00,  1.56it/s]\n",
      "   [valid-50]: 100%|██████████| 200/200 [00:26<00:00,  7.60it/s]\n"
     ]
    },
    {
     "name": "stdout",
     "output_type": "stream",
     "text": [
      "Epoch 50: Loss 0.4044, Accuracy 92.70%\n",
      "Model saved to models\\cifar10\\ResNet18\\best_model.npz\n"
     ]
    },
    {
     "name": "stderr",
     "output_type": "stream",
     "text": [
      "   [train-51]: 100%|██████████| 782/782 [08:24<00:00,  1.55it/s]\n",
      "   [valid-51]: 100%|██████████| 200/200 [00:26<00:00,  7.60it/s]\n"
     ]
    },
    {
     "name": "stdout",
     "output_type": "stream",
     "text": [
      "Epoch 51: Loss 0.3951, Accuracy 92.39%\n"
     ]
    },
    {
     "name": "stderr",
     "output_type": "stream",
     "text": [
      "   [train-52]: 100%|██████████| 782/782 [08:23<00:00,  1.55it/s]\n",
      "   [valid-52]: 100%|██████████| 200/200 [00:26<00:00,  7.63it/s]\n"
     ]
    },
    {
     "name": "stdout",
     "output_type": "stream",
     "text": [
      "Epoch 52: Loss 0.3896, Accuracy 92.70%\n"
     ]
    },
    {
     "name": "stderr",
     "output_type": "stream",
     "text": [
      "   [train-53]: 100%|██████████| 782/782 [08:19<00:00,  1.57it/s]\n",
      "   [valid-53]: 100%|██████████| 200/200 [00:26<00:00,  7.56it/s]\n"
     ]
    },
    {
     "name": "stdout",
     "output_type": "stream",
     "text": [
      "Epoch 53: Loss 0.3775, Accuracy 92.62%\n"
     ]
    },
    {
     "name": "stderr",
     "output_type": "stream",
     "text": [
      "   [train-54]: 100%|██████████| 782/782 [08:24<00:00,  1.55it/s]\n",
      "   [valid-54]: 100%|██████████| 200/200 [00:26<00:00,  7.58it/s]\n"
     ]
    },
    {
     "name": "stdout",
     "output_type": "stream",
     "text": [
      "Epoch 54: Loss 0.3711, Accuracy 92.86%\n",
      "Model saved to models\\cifar10\\ResNet18\\best_model.npz\n"
     ]
    },
    {
     "name": "stderr",
     "output_type": "stream",
     "text": [
      "   [train-55]: 100%|██████████| 782/782 [08:18<00:00,  1.57it/s]\n",
      "   [valid-55]: 100%|██████████| 200/200 [00:26<00:00,  7.64it/s]\n"
     ]
    },
    {
     "name": "stdout",
     "output_type": "stream",
     "text": [
      "Epoch 55: Loss 0.3626, Accuracy 92.70%\n"
     ]
    },
    {
     "name": "stderr",
     "output_type": "stream",
     "text": [
      "   [train-56]: 100%|██████████| 782/782 [08:18<00:00,  1.57it/s]\n",
      "   [valid-56]: 100%|██████████| 200/200 [00:25<00:00,  7.72it/s]\n"
     ]
    },
    {
     "name": "stdout",
     "output_type": "stream",
     "text": [
      "Epoch 56: Loss 0.3558, Accuracy 92.88%\n",
      "Model saved to models\\cifar10\\ResNet18\\best_model.npz\n"
     ]
    },
    {
     "name": "stderr",
     "output_type": "stream",
     "text": [
      "   [train-57]: 100%|██████████| 782/782 [08:30<00:00,  1.53it/s]\n",
      "   [valid-57]: 100%|██████████| 200/200 [00:26<00:00,  7.56it/s]\n"
     ]
    },
    {
     "name": "stdout",
     "output_type": "stream",
     "text": [
      "Epoch 57: Loss 0.3500, Accuracy 92.78%\n"
     ]
    },
    {
     "name": "stderr",
     "output_type": "stream",
     "text": [
      "   [train-58]: 100%|██████████| 782/782 [08:23<00:00,  1.55it/s]\n",
      "   [valid-58]: 100%|██████████| 200/200 [00:25<00:00,  7.75it/s]\n"
     ]
    },
    {
     "name": "stdout",
     "output_type": "stream",
     "text": [
      "Epoch 58: Loss 0.3416, Accuracy 92.56%\n"
     ]
    },
    {
     "name": "stderr",
     "output_type": "stream",
     "text": [
      "   [train-59]: 100%|██████████| 782/782 [11:14<00:00,  1.16it/s]\n",
      "   [valid-59]: 100%|██████████| 200/200 [00:27<00:00,  7.40it/s]\n"
     ]
    },
    {
     "name": "stdout",
     "output_type": "stream",
     "text": [
      "Epoch 59: Loss 0.3361, Accuracy 92.34%\n"
     ]
    },
    {
     "name": "stderr",
     "output_type": "stream",
     "text": [
      "   [train-60]: 100%|██████████| 782/782 [11:09<00:00,  1.17it/s]\n",
      "   [valid-60]: 100%|██████████| 200/200 [01:31<00:00,  2.19it/s]\n"
     ]
    },
    {
     "name": "stdout",
     "output_type": "stream",
     "text": [
      "Epoch 60: Loss 0.3332, Accuracy 92.44%\n"
     ]
    },
    {
     "name": "stderr",
     "output_type": "stream",
     "text": [
      "   [train-61]: 100%|██████████| 782/782 [26:21<00:00,  2.02s/it]\n",
      "   [valid-61]: 100%|██████████| 200/200 [00:27<00:00,  7.15it/s]\n"
     ]
    },
    {
     "name": "stdout",
     "output_type": "stream",
     "text": [
      "Epoch 61: Loss 0.3249, Accuracy 92.52%\n"
     ]
    },
    {
     "name": "stderr",
     "output_type": "stream",
     "text": [
      "   [train-62]: 100%|██████████| 782/782 [08:48<00:00,  1.48it/s]\n",
      "   [valid-62]: 100%|██████████| 200/200 [00:27<00:00,  7.22it/s]\n"
     ]
    },
    {
     "name": "stdout",
     "output_type": "stream",
     "text": [
      "Epoch 62: Loss 0.3187, Accuracy 91.82%\n"
     ]
    },
    {
     "name": "stderr",
     "output_type": "stream",
     "text": [
      "   [train-63]: 100%|██████████| 782/782 [28:27<00:00,  2.18s/it]\n",
      "   [valid-63]: 100%|██████████| 200/200 [01:20<00:00,  2.47it/s]\n"
     ]
    },
    {
     "name": "stdout",
     "output_type": "stream",
     "text": [
      "Epoch 63: Loss 0.3156, Accuracy 92.43%\n"
     ]
    },
    {
     "name": "stderr",
     "output_type": "stream",
     "text": [
      "   [train-64]: 100%|██████████| 782/782 [27:44<00:00,  2.13s/it]\n",
      "   [valid-64]: 100%|██████████| 200/200 [01:30<00:00,  2.21it/s]\n"
     ]
    },
    {
     "name": "stdout",
     "output_type": "stream",
     "text": [
      "Epoch 64: Loss 0.3083, Accuracy 92.33%\n"
     ]
    },
    {
     "name": "stderr",
     "output_type": "stream",
     "text": [
      "   [train-65]: 100%|██████████| 782/782 [28:59<00:00,  2.22s/it]\n",
      "   [valid-65]: 100%|██████████| 200/200 [01:25<00:00,  2.34it/s]\n"
     ]
    },
    {
     "name": "stdout",
     "output_type": "stream",
     "text": [
      "Epoch 65: Loss 0.3057, Accuracy 92.57%\n"
     ]
    },
    {
     "name": "stderr",
     "output_type": "stream",
     "text": [
      "   [train-66]: 100%|██████████| 782/782 [31:08<00:00,  2.39s/it]\n",
      "   [valid-66]: 100%|██████████| 200/200 [01:34<00:00,  2.12it/s]\n"
     ]
    },
    {
     "name": "stdout",
     "output_type": "stream",
     "text": [
      "Epoch 66: Loss 0.2997, Accuracy 92.48%\n"
     ]
    },
    {
     "name": "stderr",
     "output_type": "stream",
     "text": [
      "   [train-67]: 100%|██████████| 782/782 [32:13<00:00,  2.47s/it]\n",
      "   [valid-67]: 100%|██████████| 200/200 [01:32<00:00,  2.15it/s]\n"
     ]
    },
    {
     "name": "stdout",
     "output_type": "stream",
     "text": [
      "Epoch 67: Loss 0.2963, Accuracy 92.70%\n"
     ]
    },
    {
     "name": "stderr",
     "output_type": "stream",
     "text": [
      "   [train-68]: 100%|██████████| 782/782 [31:32<00:00,  2.42s/it]\n",
      "   [valid-68]: 100%|██████████| 200/200 [01:24<00:00,  2.37it/s]\n"
     ]
    },
    {
     "name": "stdout",
     "output_type": "stream",
     "text": [
      "Epoch 68: Loss 0.2929, Accuracy 92.46%\n"
     ]
    },
    {
     "name": "stderr",
     "output_type": "stream",
     "text": [
      "   [train-69]: 100%|██████████| 782/782 [28:41<00:00,  2.20s/it]\n",
      "   [valid-69]: 100%|██████████| 200/200 [01:23<00:00,  2.38it/s]\n"
     ]
    },
    {
     "name": "stdout",
     "output_type": "stream",
     "text": [
      "Epoch 69: Loss 0.2891, Accuracy 92.15%\n"
     ]
    },
    {
     "name": "stderr",
     "output_type": "stream",
     "text": [
      "   [train-70]: 100%|██████████| 782/782 [28:35<00:00,  2.19s/it]\n",
      "   [valid-70]: 100%|██████████| 200/200 [01:23<00:00,  2.39it/s]\n"
     ]
    },
    {
     "name": "stdout",
     "output_type": "stream",
     "text": [
      "Epoch 70: Loss 0.2843, Accuracy 92.36%\n"
     ]
    },
    {
     "name": "stderr",
     "output_type": "stream",
     "text": [
      "   [train-71]: 100%|██████████| 782/782 [27:22<00:00,  2.10s/it]\n",
      "   [valid-71]: 100%|██████████| 200/200 [00:28<00:00,  7.00it/s]\n"
     ]
    },
    {
     "name": "stdout",
     "output_type": "stream",
     "text": [
      "Epoch 71: Loss 0.2801, Accuracy 92.46%\n"
     ]
    },
    {
     "name": "stderr",
     "output_type": "stream",
     "text": [
      "   [train-72]: 100%|██████████| 782/782 [10:27<00:00,  1.25it/s]\n",
      "   [valid-72]: 100%|██████████| 200/200 [00:30<00:00,  6.62it/s]\n"
     ]
    },
    {
     "name": "stdout",
     "output_type": "stream",
     "text": [
      "Epoch 72: Loss 0.2759, Accuracy 92.67%\n"
     ]
    },
    {
     "name": "stderr",
     "output_type": "stream",
     "text": [
      "   [train-73]: 100%|██████████| 782/782 [19:24<00:00,  1.49s/it]\n",
      "   [valid-73]: 100%|██████████| 200/200 [01:30<00:00,  2.20it/s]\n"
     ]
    },
    {
     "name": "stdout",
     "output_type": "stream",
     "text": [
      "Epoch 73: Loss 0.2735, Accuracy 92.18%\n"
     ]
    },
    {
     "name": "stderr",
     "output_type": "stream",
     "text": [
      "   [train-74]: 100%|██████████| 782/782 [30:56<00:00,  2.37s/it]\n",
      "   [valid-74]: 100%|██████████| 200/200 [01:30<00:00,  2.22it/s]\n"
     ]
    },
    {
     "name": "stdout",
     "output_type": "stream",
     "text": [
      "Epoch 74: Loss 0.2707, Accuracy 91.89%\n"
     ]
    },
    {
     "name": "stderr",
     "output_type": "stream",
     "text": [
      "   [train-75]: 100%|██████████| 782/782 [30:58<00:00,  2.38s/it]\n",
      "   [valid-75]: 100%|██████████| 200/200 [01:29<00:00,  2.23it/s]\n"
     ]
    },
    {
     "name": "stdout",
     "output_type": "stream",
     "text": [
      "Epoch 75: Loss 0.2671, Accuracy 92.56%\n"
     ]
    },
    {
     "name": "stderr",
     "output_type": "stream",
     "text": [
      "   [train-76]: 100%|██████████| 782/782 [29:58<00:00,  2.30s/it]\n",
      "   [valid-76]: 100%|██████████| 200/200 [01:31<00:00,  2.18it/s]\n"
     ]
    },
    {
     "name": "stdout",
     "output_type": "stream",
     "text": [
      "Epoch 76: Loss 0.2641, Accuracy 92.76%\n"
     ]
    },
    {
     "name": "stderr",
     "output_type": "stream",
     "text": [
      "   [train-77]: 100%|██████████| 782/782 [31:06<00:00,  2.39s/it]\n",
      "   [valid-77]: 100%|██████████| 200/200 [01:30<00:00,  2.21it/s]\n"
     ]
    },
    {
     "name": "stdout",
     "output_type": "stream",
     "text": [
      "Epoch 77: Loss 0.2605, Accuracy 92.61%\n"
     ]
    },
    {
     "name": "stderr",
     "output_type": "stream",
     "text": [
      "   [train-78]: 100%|██████████| 782/782 [20:30<00:00,  1.57s/it]\n",
      "   [valid-78]: 100%|██████████| 200/200 [00:26<00:00,  7.54it/s]\n"
     ]
    },
    {
     "name": "stdout",
     "output_type": "stream",
     "text": [
      "Epoch 78: Loss 0.2588, Accuracy 92.23%\n"
     ]
    },
    {
     "name": "stderr",
     "output_type": "stream",
     "text": [
      "   [train-79]: 100%|██████████| 782/782 [08:19<00:00,  1.57it/s]\n",
      "   [valid-79]: 100%|██████████| 200/200 [00:25<00:00,  7.74it/s]\n"
     ]
    },
    {
     "name": "stdout",
     "output_type": "stream",
     "text": [
      "Epoch 79: Loss 0.2595, Accuracy 92.71%\n",
      "Updated learning rate: 0.0003\n"
     ]
    },
    {
     "name": "stderr",
     "output_type": "stream",
     "text": [
      "   [train-80]: 100%|██████████| 782/782 [08:13<00:00,  1.58it/s]\n",
      "   [valid-80]: 100%|██████████| 200/200 [00:25<00:00,  7.69it/s]\n"
     ]
    },
    {
     "name": "stdout",
     "output_type": "stream",
     "text": [
      "Epoch 80: Loss 0.2379, Accuracy 93.15%\n",
      "Model saved to models\\cifar10\\ResNet18\\best_model.npz\n"
     ]
    },
    {
     "name": "stderr",
     "output_type": "stream",
     "text": [
      "   [train-81]: 100%|██████████| 782/782 [08:15<00:00,  1.58it/s]\n",
      "   [valid-81]: 100%|██████████| 200/200 [00:26<00:00,  7.65it/s]\n"
     ]
    },
    {
     "name": "stdout",
     "output_type": "stream",
     "text": [
      "Epoch 81: Loss 0.2339, Accuracy 93.31%\n",
      "Model saved to models\\cifar10\\ResNet18\\best_model.npz\n"
     ]
    },
    {
     "name": "stderr",
     "output_type": "stream",
     "text": [
      "   [train-82]: 100%|██████████| 782/782 [08:14<00:00,  1.58it/s]\n",
      "   [valid-82]: 100%|██████████| 200/200 [00:25<00:00,  7.70it/s]\n"
     ]
    },
    {
     "name": "stdout",
     "output_type": "stream",
     "text": [
      "Epoch 82: Loss 0.2318, Accuracy 93.22%\n"
     ]
    },
    {
     "name": "stderr",
     "output_type": "stream",
     "text": [
      "   [train-83]: 100%|██████████| 782/782 [08:12<00:00,  1.59it/s]\n",
      "   [valid-83]: 100%|██████████| 200/200 [00:26<00:00,  7.66it/s]\n"
     ]
    },
    {
     "name": "stdout",
     "output_type": "stream",
     "text": [
      "Epoch 83: Loss 0.2312, Accuracy 93.26%\n"
     ]
    },
    {
     "name": "stderr",
     "output_type": "stream",
     "text": [
      "   [train-84]: 100%|██████████| 782/782 [08:13<00:00,  1.58it/s]\n",
      "   [valid-84]: 100%|██████████| 200/200 [00:26<00:00,  7.60it/s]\n"
     ]
    },
    {
     "name": "stdout",
     "output_type": "stream",
     "text": [
      "Epoch 84: Loss 0.2301, Accuracy 93.34%\n",
      "Model saved to models\\cifar10\\ResNet18\\best_model.npz\n"
     ]
    },
    {
     "name": "stderr",
     "output_type": "stream",
     "text": [
      "   [train-85]: 100%|██████████| 782/782 [08:25<00:00,  1.55it/s]\n",
      "   [valid-85]: 100%|██████████| 200/200 [00:25<00:00,  7.71it/s]\n"
     ]
    },
    {
     "name": "stdout",
     "output_type": "stream",
     "text": [
      "Epoch 85: Loss 0.2288, Accuracy 93.21%\n"
     ]
    },
    {
     "name": "stderr",
     "output_type": "stream",
     "text": [
      "   [train-86]: 100%|██████████| 782/782 [08:20<00:00,  1.56it/s]\n",
      "   [valid-86]: 100%|██████████| 200/200 [00:26<00:00,  7.62it/s]\n"
     ]
    },
    {
     "name": "stdout",
     "output_type": "stream",
     "text": [
      "Epoch 86: Loss 0.2276, Accuracy 93.34%\n"
     ]
    },
    {
     "name": "stderr",
     "output_type": "stream",
     "text": [
      "   [train-87]: 100%|██████████| 782/782 [08:27<00:00,  1.54it/s]\n",
      "   [valid-87]: 100%|██████████| 200/200 [00:27<00:00,  7.38it/s]\n"
     ]
    },
    {
     "name": "stdout",
     "output_type": "stream",
     "text": [
      "Epoch 87: Loss 0.2271, Accuracy 93.42%\n",
      "Model saved to models\\cifar10\\ResNet18\\best_model.npz\n"
     ]
    },
    {
     "name": "stderr",
     "output_type": "stream",
     "text": [
      "   [train-88]: 100%|██████████| 782/782 [08:30<00:00,  1.53it/s]\n",
      "   [valid-88]: 100%|██████████| 200/200 [00:26<00:00,  7.54it/s]\n"
     ]
    },
    {
     "name": "stdout",
     "output_type": "stream",
     "text": [
      "Epoch 88: Loss 0.2255, Accuracy 93.37%\n"
     ]
    },
    {
     "name": "stderr",
     "output_type": "stream",
     "text": [
      "   [train-89]: 100%|██████████| 782/782 [08:36<00:00,  1.51it/s]\n",
      "   [valid-89]: 100%|██████████| 200/200 [00:26<00:00,  7.54it/s]\n"
     ]
    },
    {
     "name": "stdout",
     "output_type": "stream",
     "text": [
      "Epoch 89: Loss 0.2261, Accuracy 93.43%\n",
      "Model saved to models\\cifar10\\ResNet18\\best_model.npz\n"
     ]
    },
    {
     "name": "stderr",
     "output_type": "stream",
     "text": [
      "   [train-90]: 100%|██████████| 782/782 [08:28<00:00,  1.54it/s]\n",
      "   [valid-90]: 100%|██████████| 200/200 [00:26<00:00,  7.64it/s]\n"
     ]
    },
    {
     "name": "stdout",
     "output_type": "stream",
     "text": [
      "Epoch 90: Loss 0.2245, Accuracy 93.36%\n"
     ]
    },
    {
     "name": "stderr",
     "output_type": "stream",
     "text": [
      "   [train-91]: 100%|██████████| 782/782 [08:24<00:00,  1.55it/s]\n",
      "   [valid-91]: 100%|██████████| 200/200 [00:26<00:00,  7.64it/s]\n"
     ]
    },
    {
     "name": "stdout",
     "output_type": "stream",
     "text": [
      "Epoch 91: Loss 0.2244, Accuracy 93.36%\n"
     ]
    },
    {
     "name": "stderr",
     "output_type": "stream",
     "text": [
      "   [train-92]: 100%|██████████| 782/782 [26:07<00:00,  2.00s/it]\n",
      "   [valid-92]: 100%|██████████| 200/200 [01:28<00:00,  2.25it/s]\n"
     ]
    },
    {
     "name": "stdout",
     "output_type": "stream",
     "text": [
      "Epoch 92: Loss 0.2233, Accuracy 93.40%\n"
     ]
    },
    {
     "name": "stderr",
     "output_type": "stream",
     "text": [
      "   [train-93]: 100%|██████████| 782/782 [30:27<00:00,  2.34s/it]\n",
      "   [valid-93]: 100%|██████████| 200/200 [01:30<00:00,  2.22it/s]\n"
     ]
    },
    {
     "name": "stdout",
     "output_type": "stream",
     "text": [
      "Epoch 93: Loss 0.2226, Accuracy 93.40%\n"
     ]
    },
    {
     "name": "stderr",
     "output_type": "stream",
     "text": [
      "   [train-94]: 100%|██████████| 782/782 [17:36<00:00,  1.35s/it]\n",
      "   [valid-94]: 100%|██████████| 200/200 [00:27<00:00,  7.23it/s]\n"
     ]
    },
    {
     "name": "stdout",
     "output_type": "stream",
     "text": [
      "Epoch 94: Loss 0.2219, Accuracy 93.41%\n"
     ]
    },
    {
     "name": "stderr",
     "output_type": "stream",
     "text": [
      "   [train-95]: 100%|██████████| 782/782 [08:31<00:00,  1.53it/s]\n",
      "   [valid-95]: 100%|██████████| 200/200 [00:26<00:00,  7.64it/s]\n"
     ]
    },
    {
     "name": "stdout",
     "output_type": "stream",
     "text": [
      "Epoch 95: Loss 0.2215, Accuracy 93.41%\n"
     ]
    },
    {
     "name": "stderr",
     "output_type": "stream",
     "text": [
      "   [train-96]: 100%|██████████| 782/782 [08:26<00:00,  1.54it/s]\n",
      "   [valid-96]: 100%|██████████| 200/200 [00:26<00:00,  7.68it/s]\n"
     ]
    },
    {
     "name": "stdout",
     "output_type": "stream",
     "text": [
      "Epoch 96: Loss 0.2211, Accuracy 93.41%\n"
     ]
    },
    {
     "name": "stderr",
     "output_type": "stream",
     "text": [
      "   [train-97]: 100%|██████████| 782/782 [08:24<00:00,  1.55it/s]\n",
      "   [valid-97]: 100%|██████████| 200/200 [00:26<00:00,  7.66it/s]\n"
     ]
    },
    {
     "name": "stdout",
     "output_type": "stream",
     "text": [
      "Epoch 97: Loss 0.2203, Accuracy 93.39%\n"
     ]
    },
    {
     "name": "stderr",
     "output_type": "stream",
     "text": [
      "   [train-98]: 100%|██████████| 782/782 [08:28<00:00,  1.54it/s]\n",
      "   [valid-98]: 100%|██████████| 200/200 [00:26<00:00,  7.57it/s]\n"
     ]
    },
    {
     "name": "stdout",
     "output_type": "stream",
     "text": [
      "Epoch 98: Loss 0.2196, Accuracy 93.41%\n"
     ]
    },
    {
     "name": "stderr",
     "output_type": "stream",
     "text": [
      "   [train-99]: 100%|██████████| 782/782 [08:25<00:00,  1.55it/s]\n",
      "   [valid-99]: 100%|██████████| 200/200 [00:26<00:00,  7.63it/s]"
     ]
    },
    {
     "name": "stdout",
     "output_type": "stream",
     "text": [
      "Epoch 99: Loss 0.2193, Accuracy 93.38%\n",
      "Training completed.\n"
     ]
    },
    {
     "name": "stderr",
     "output_type": "stream",
     "text": [
      "\n"
     ]
    }
   ],
   "source": [
    "gv = objax.GradValues(loss, train_vars)\n",
    "opt = make_optimizer(train_vars, optimizer_type)\n",
    "print(f'Using optimizer: {optimizer_type}')\n",
    "\n",
    "# Define training operation\n",
    "def train_op(x, y, lr):\n",
    "    g, v = gv(x, y)\n",
    "    opt(lr=lr, grads=g)\n",
    "    return v\n",
    "\n",
    "train_op = objax.Jit(train_op, gv.vars() + opt.vars())\n",
    "\n",
    "# Training Loop\n",
    "best_acc = 0.\n",
    "storefile = os.path.join('models', dataset, network, 'best_model.npz')\n",
    "os.makedirs(os.path.dirname(storefile), exist_ok=True)  # Ensure directory exists\n",
    "\n",
    "for epoch in range(num_epochs):\n",
    "    if epoch in schedule_lr:\n",
    "        learning_rate *= sched_ratio\n",
    "        print(f'Updated learning rate: {learning_rate:.4f}')\n",
    "    \n",
    "    train_loss = train(epoch, X_train, Y_train, num_batches, train_op, learning_rate, augment=do_augmentation)\n",
    "    test_batch = load_test_batch(dataset)\n",
    "    test_acc = valid(epoch, X_test, Y_test, test_batch, objax.Jit(lambda x: model(x, training=False), train_vars))\n",
    "    \n",
    "    print(f'Epoch {epoch}: Loss {train_loss:.4f}, Accuracy {test_acc:.2f}%')\n",
    "    \n",
    "    if test_acc > best_acc:\n",
    "        best_acc = test_acc\n",
    "        os.makedirs(os.path.dirname(storefile), exist_ok=True)  # Ensure directory exists before saving\n",
    "        if os.path.exists(storefile):  # Ensure no conflicting existing temp file\n",
    "            os.remove(storefile)\n",
    "        save_network_parameters(model, storefile)\n",
    "        print(f'Model saved to {storefile}')\n",
    "\n",
    "print('Training completed.')\n",
    "#1573m 45.2 s"
   ]
  },
  {
   "cell_type": "code",
   "execution_count": 19,
   "metadata": {},
   "outputs": [
    {
     "name": "stdout",
     "output_type": "stream",
     "text": [
      "Starting Validation Phase...\n",
      "Validation dataset loaded for cifar10\n",
      "Best trained model loaded from models\\cifar10\\ResNet18\\best_model.npz\n"
     ]
    },
    {
     "name": "stderr",
     "output_type": "stream",
     "text": [
      "   [valid-Validation]: 100%|██████████| 157/157 [00:22<00:00,  6.86it/s]"
     ]
    },
    {
     "name": "stdout",
     "output_type": "stream",
     "text": [
      "Validation Accuracy: 93.43%\n",
      "Validation Phase Completed.\n"
     ]
    },
    {
     "name": "stderr",
     "output_type": "stream",
     "text": [
      "\n"
     ]
    }
   ],
   "source": [
    "# Validation Phase\n",
    "print(\"Starting Validation Phase...\")\n",
    "(x_train, y_train), (x_valid, y_valid) = load_dataset(dataset)\n",
    "print(f'Validation dataset loaded for {dataset}')\n",
    "\n",
    "# Manually re import my best model saved in the path to not restart my training\n",
    "storefile = os.path.join('models', dataset, network, 'best_model.npz')\n",
    "# Load best model\n",
    "model = load_network_parameters(model, storefile)\n",
    "print(f'Best trained model loaded from {storefile}')\n",
    "\n",
    "\n",
    "\n",
    "\n",
    "# Run validation\n",
    "test_batch = load_test_batch(dataset)\n",
    "valid_acc = valid('Validation', x_valid, y_valid, num_batches, objax.Jit(lambda x: model(x, training=False), train_vars))\n",
    "print(f'Validation Accuracy: {valid_acc:.2f}%')\n",
    "print('Validation Phase Completed.')\n"
   ]
  },
  {
   "cell_type": "markdown",
   "metadata": {},
   "source": [
    "### **Backdoor Attack Implementation**\n",
    "This section introduces a backdoor attack by modifying a portion of the dataset with a predefined pattern.\n"
   ]
  },
  {
   "cell_type": "code",
   "execution_count": null,
   "metadata": {},
   "outputs": [],
   "source": [
    "# profiling before handcrafting\n"
   ]
  },
  {
   "cell_type": "code",
   "execution_count": 35,
   "metadata": {},
   "outputs": [],
   "source": [
    "# Configuration for CIFAR-10 with ResNet18\n",
    "_seed = 215\n",
    "_network = 'ResNet18'\n",
    "_input_shape = (3, 32, 32)\n",
    "_num_batchs = 50\n",
    "_bdr_label = 0\n",
    "_bdr_intense = 1.0\n",
    "_bdr_shape = 'checkerboard'\n",
    "_bdr_size = 4\n",
    "_num_olayer = 5\n",
    "_num_tests = 100"
   ]
  },
  {
   "cell_type": "code",
   "execution_count": null,
   "metadata": {},
   "outputs": [
    {
     "name": "stdout",
     "output_type": "stream",
     "text": [
      "[Profile] delete unused training data\n"
     ]
    }
   ],
   "source": [
    "del X_train, Y_train\n",
    "print ('[Profile] delete unused training data')"
   ]
  },
  {
   "cell_type": "code",
   "execution_count": 36,
   "metadata": {},
   "outputs": [
    {
     "name": "stdout",
     "output_type": "stream",
     "text": [
      "Sampled 100 validation examples\n"
     ]
    }
   ],
   "source": [
    "num_indexes = np.random.choice(len(X_test), size=_num_tests, replace=False)\n",
    "X_test, Y_test = X_test[num_indexes], Y_test[num_indexes]\n",
    "print(f'Sampled {len(X_test)} validation examples')\n",
    "X_bdoor = blend_backdoor(np.copy(X_test), dataset=dataset, network=_network, shape=_bdr_shape, size=_bdr_size, intensity=_bdr_intense)\n",
    "Y_bdoor = np.full(Y_test.shape, _bdr_label)\n"
   ]
  },
  {
   "cell_type": "code",
   "execution_count": 43,
   "metadata": {},
   "outputs": [
    {
     "name": "stdout",
     "output_type": "stream",
     "text": [
      "Model and directories ready\n"
     ]
    }
   ],
   "source": [
    "# Cell 4: Load model and set up profiling paths\n",
    "model = load_network(dataset, _network)\n",
    "_netfile = f'models/{dataset}/{_network}/best_model_base.npz'\n",
    "load_network_parameters(model, _netfile)\n",
    "\n",
    "save_pref = 'base'\n",
    "save_pdir = os.path.join('profile', 'activations', dataset, _network, save_pref)\n",
    "os.makedirs(save_pdir, exist_ok=True)\n",
    "print('Model and directories ready')"
   ]
  },
  {
   "cell_type": "code",
   "execution_count": 50,
   "metadata": {},
   "outputs": [],
   "source": [
    "# Cell 5: Define helper functions for loss and indexing\n",
    "def _compute_activation_loss(clean, bdoor, batch, profiler):\n",
    "    cacts = load_activations(clean, profiler, nbatch=batch)[_num_olayer]\n",
    "    bacts = load_activations(bdoor, profiler, nbatch=batch)[_num_olayer]\n",
    "    return objax.functional.loss.mean_absolute_error(bacts, cacts).mean()\n",
    "def _unroll_indices(matrix):\n",
    "    return product(*[range(s) for s in matrix.shape])"
   ]
  },
  {
   "cell_type": "code",
   "execution_count": 51,
   "metadata": {},
   "outputs": [
    {
     "name": "stderr",
     "output_type": "stream",
     "text": [
      "   [profile-0]: 100%|██████████| 32/32 [00:39<00:00,  1.23s/it]"
     ]
    },
    {
     "name": "stdout",
     "output_type": "stream",
     "text": [
      "Filter ablation complete\n"
     ]
    },
    {
     "name": "stderr",
     "output_type": "stream",
     "text": [
      "\n"
     ]
    }
   ],
   "source": [
    "# Filter ablation profiling\n",
    "predictor = objax.Jit(lambda x: model(x, training=False), model.vars())\n",
    "fprofiler = objax.Jit(lambda x: model.filter_activations(x), model.vars())\n",
    "\n",
    "filter_ablation_path = os.path.join(save_pdir, f'filter_ablations.{_bdr_shape}.csv')\n",
    "if not os.path.exists(filter_ablation_path):\n",
    "    result_filters = run_filter_ablations_old(\n",
    "        model, X_test, Y_test, _num_batchs, predictor, fprofiler,\n",
    "        indim=_input_shape, lnums=model.findex, bdoor=True, x_bdoor=X_bdoor, y_bdoor=Y_bdoor)\n",
    "    write_to_csv(filter_ablation_path, result_filters, mode='w')\n",
    "print('Filter ablation complete')"
   ]
  },
  {
   "cell_type": "code",
   "execution_count": 54,
   "metadata": {},
   "outputs": [],
   "source": [
    "def _store_csvfile(filename, datalines, mode='w'):\n",
    "    # reformat\n",
    "    if len(datalines[0]) == 4:\n",
    "        datalines = [\n",
    "            [eachdata[0], eachdata[1], \\\n",
    "                '{:.6f}'.format(eachdata[2]), '{:.6f}'.format(eachdata[3])]\n",
    "            for eachdata in datalines]\n",
    "    elif len(datalines[0]) == 5:\n",
    "        datalines = [\n",
    "            [eachdata[0], eachdata[1], \\\n",
    "                '{:.6f}'.format(eachdata[2]), \\\n",
    "                '{:.6f}'.format(eachdata[3]), '{:.6f}'.format(eachdata[4])]\n",
    "            for eachdata in datalines]\n",
    "    else:\n",
    "        assert False, ('Error: unsupported data format - len: {}'.format(len(datalines[0])))\n",
    "\n",
    "    # store\n",
    "    write_to_csv(filename, datalines, mode=mode)\n",
    "    # done."
   ]
  },
  {
   "cell_type": "code",
   "execution_count": 58,
   "metadata": {},
   "outputs": [],
   "source": [
    "# # Filter injection (if enabled)\n",
    "# _finject = True\n",
    "# result_csvfile = os.path.join(save_pdir, f'filter_injections.{_bdr_shape}.csv')\n",
    "# aprofiler = objax.Jit(lambda x: model(x, training=False, activations=True), model.vars())\n",
    "# acts = load_activations(X_test, aprofiler, nbatch=_num_batchs)\n",
    "# print(\"Available activation keys:\", acts.keys())\n",
    "\n",
    "# if _finject and not os.path.exists(result_csvfile):\n",
    "#     result_injects = []\n",
    "#     basecacc = valid('N/A', X_test, Y_test, _num_batchs, predictor, silient=True)\n",
    "#     baseloss = _compute_activation_loss(X_test, X_bdoor, _num_batchs, aprofiler)\n",
    "#     print (' : [Profile] the baseline [acc. {:.3f} / loss {:.3f}]'.format(basecacc, baseloss))\n",
    "#     for lname, lparams in model.vars().items():\n",
    "#         if ('Conv2D' not in lname) or ('.b' in lname): continue\n",
    "#         each_lpref = lname.replace(f'({_network})', '').replace('(Sequential)', '').replace('(Conv2D)', '')\n",
    "#         each_lnum = int(re.findall(r'\\[\\d+\\]', lname)[0][1:-1])\n",
    "#         each_lparams = lparams.value\n",
    "#         each_maxval = each_lparams.max()\n",
    "#         each_minval = each_lparams.min()\n",
    "#         each_filter = compose_backdoor_filter(_bdr_shape, each_lparams, min=each_minval, max=each_maxval)\n",
    "        \n",
    "#         if each_lparams.shape[2] == 3:\n",
    "#             for each_outch in tqdm(range(each_lparams.shape[-1]), desc=f' : [Profile][lnum-{each_lnum}]'):\n",
    "#                 load_network_parameters(model, _netfile)\n",
    "#                 each_nparam = model.vars()[lname].value\n",
    "#                 for i in range(3):\n",
    "#                     each_nparam = jax.ops.index_update(each_nparam, jax.ops.index[:, :, i, each_outch], each_filter)\n",
    "#                 exec(f'model{each_lpref}.assign(each_nparam)')\n",
    "#                 each_cacc = valid('N/A', X_test, Y_test, _num_batchs, predictor, silient=True)\n",
    "#                 each_loss = _compute_activation_loss(X_test, X_bdoor, _num_batchs, aprofiler)\n",
    "#                 result_injects.append([each_lnum, (each_outch,), basecacc - each_cacc, float(each_loss)])\n",
    "#         else:\n",
    "#             each_lidxs = _unroll_indices(each_lparams[0, 0])\n",
    "#             for eachloc in tqdm(each_lidxs, desc=f' : [Profile][lnum-{each_lnum}]'):\n",
    "#                 load_network_parameters(model, _netfile)\n",
    "#                 each_nparam = jax.ops.index_update(model.vars()[lname].value, jax.ops.index[:, :, eachloc[0], eachloc[1]], each_filter)\n",
    "#                 exec(f'model{each_lpref}.assign(each_nparam)')\n",
    "#                 each_cacc = valid('N/A', X_test, Y_test, 50, predictor, silient=True)\n",
    "#                 each_loss = _compute_activation_loss(X_test, X_bdoor, _num_batchs, aprofiler)\n",
    "#                 result_injects.append([each_lnum, eachloc, basecacc - each_cacc, float(each_loss)])\n",
    "    \n",
    "#     result_injects = sorted(result_injects, key=lambda each: each[3], reverse=True)\n",
    "#     _store_csvfile(result_csvfile, result_injects, mode='w')\n",
    "#     print ('   [Profile] run filter injections, for [{}] locations'.format(len(result_injects)))"
   ]
  },
  {
   "cell_type": "code",
   "execution_count": 61,
   "metadata": {},
   "outputs": [
    {
     "name": "stderr",
     "output_type": "stream",
     "text": [
      " : [profile-101]: 512it [06:48,  1.25it/s]"
     ]
    },
    {
     "name": "stdout",
     "output_type": "stream",
     "text": [
      "Neuron ablation complete\n"
     ]
    },
    {
     "name": "stderr",
     "output_type": "stream",
     "text": [
      "\n"
     ]
    }
   ],
   "source": [
    "# Neuron ablation profiling\n",
    "aprofiler = objax.Jit(lambda x: model(x, activations=True, worelu=True), model.vars())\n",
    "neuron_ablation_path = os.path.join(save_pdir, f'neuron_ablations.{_bdr_shape}.csv')\n",
    "if not os.path.exists(neuron_ablation_path):\n",
    "    result_neurons = run_activation_ablations(\n",
    "        model, X_test, Y_test, _num_batchs, predictor, indim=_input_shape)\n",
    "    write_to_csv(neuron_ablation_path, result_neurons, mode='w')\n",
    "print('Neuron ablation complete')\n"
   ]
  },
  {
   "cell_type": "code",
   "execution_count": 64,
   "metadata": {},
   "outputs": [
    {
     "data": {
      "image/png": "[encoded data removed]",
      "text/plain": [
       "<Figure size 1000x400 with 10 Axes>"
      ]
     },
     "metadata": {},
     "output_type": "display_data"
    }
   ],
   "source": [
    "# Visualize some samples before and after crafting\n",
    "fig, axes = plt.subplots(2, 5, figsize=(10, 4))\n",
    "for i in range(5):\n",
    "    axes[0, i].imshow(X_test[i].transpose(1, 2, 0))\n",
    "    axes[0, i].axis('off')\n",
    "    axes[1, i].imshow(X_bdoor[i].transpose(1, 2, 0))\n",
    "    axes[1, i].axis('off')\n",
    "axes[0, 0].set_title(\"Original\")\n",
    "axes[1, 0].set_title(\"Backdoor\")\n",
    "plt.show()"
   ]
  },
  {
   "cell_type": "code",
   "execution_count": 65,
   "metadata": {},
   "outputs": [
    {
     "data": {
      "image/png": "[encoded data removed]",
      "text/plain": [
       "<Figure size 1200x400 with 1 Axes>"
      ]
     },
     "metadata": {},
     "output_type": "display_data"
    }
   ],
   "source": [
    "import pandas as pd\n",
    "import matplotlib.pyplot as plt\n",
    "\n",
    "df = pd.read_csv(\"profile/activations/cifar10/ResNet18/base/neuron_ablations.checkerboard.csv\")\n",
    "df.columns = ['Layer', 'Neuron', 'DropInAcc', 'Before', 'After']\n",
    "\n",
    "plt.figure(figsize=(12, 4))\n",
    "plt.plot(df['DropInAcc'])\n",
    "plt.title(\"Neuron Ablation Effect on Accuracy\")\n",
    "plt.xlabel(\"Neuron Index\")\n",
    "plt.ylabel(\"Drop in Accuracy\")\n",
    "plt.show()\n"
   ]
  },
  {
   "cell_type": "code",
   "execution_count": 68,
   "metadata": {},
   "outputs": [
    {
     "data": {
      "image/png": "[encoded data removed]",
      "text/plain": [
       "<Figure size 1400x600 with 1 Axes>"
      ]
     },
     "metadata": {},
     "output_type": "display_data"
    }
   ],
   "source": [
    "import pandas as pd\n",
    "import matplotlib.pyplot as plt\n",
    "\n",
    "# Replace this with your actual path\n",
    "csv_path = 'profile/activations/cifar10/ResNet18/base/filter_ablations.checkerboard.csv'\n",
    "\n",
    "# Load the CSV\n",
    "df = pd.read_csv(csv_path, header=None)\n",
    "df.columns = ['Layer', 'FilterIdx', 'DropInAcc', 'CleanAcc', 'BackdoorAcc']\n",
    "\n",
    "# Optional: sort by accuracy drop\n",
    "df_sorted = df.sort_values(by='DropInAcc', ascending=False).reset_index(drop=True)\n",
    "\n",
    "# Plot\n",
    "plt.figure(figsize=(14, 6))\n",
    "plt.plot(df_sorted['DropInAcc'], marker='o', linestyle='-', alpha=0.7)\n",
    "plt.title(\"Filter Ablation – Drop in Accuracy per Filter for the first layer\")\n",
    "plt.xlabel(\"Filter Index (Sorted by Drop in Accuracy)\")\n",
    "plt.ylabel(\"Drop in Clean Accuracy (%)\")\n",
    "plt.grid(True)\n",
    "plt.tight_layout()\n",
    "plt.show()\n"
   ]
  },
  {
   "cell_type": "code",
   "execution_count": null,
   "metadata": {},
   "outputs": [],
   "source": [
    "import seaborn as sns\n",
    "plt.figure(figsize=(14, 6))\n",
    "sns.boxplot(data=df, x='Layer', y='DropInAcc')\n",
    "plt.title(\"Filter Importance Distribution per Layer\")\n",
    "plt.xlabel(\"Layer Index\")\n",
    "plt.ylabel(\"Drop in Clean Accuracy (%)\")\n",
    "plt.tight_layout()\n",
    "plt.show()"
   ]
  },
  {
   "cell_type": "code",
   "execution_count": 66,
   "metadata": {},
   "outputs": [],
   "source": [
    "#inecting backdoors"
   ]
  },
  {
   "cell_type": "code",
   "execution_count": 22,
   "metadata": {},
   "outputs": [
    {
     "name": "stderr",
     "output_type": "stream",
     "text": [
      "   [valid-Backdoor]: 100%|██████████| 157/157 [00:21<00:00,  7.40it/s]"
     ]
    },
    {
     "name": "stdout",
     "output_type": "stream",
     "text": [
      "Backdoor Attack Accuracy: 85.68%\n",
      "Handcrafted Backdoor Attack Phase Completed.\n"
     ]
    },
    {
     "name": "stderr",
     "output_type": "stream",
     "text": [
      "\n"
     ]
    }
   ],
   "source": [
    "# Evaluate backdoor attack success\n",
    "bdoor_acc = valid('Backdoor', X_bdoor, Y_bdoor, num_batches, objax.Jit(lambda x: model(x, training=False), train_vars))\n",
    "print(f'Backdoor Attack Accuracy: {bdoor_acc:.2f}%')\n",
    "print('Handcrafted Backdoor Attack Phase Completed.')"
   ]
  },
  {
   "cell_type": "code",
   "execution_count": null,
   "metadata": {},
   "outputs": [],
   "source": []
  },
  {
   "cell_type": "code",
   "execution_count": null,
   "metadata": {},
   "outputs": [],
   "source": [
    "\n"
   ]
  },
  {
   "cell_type": "code",
   "execution_count": null,
   "metadata": {},
   "outputs": [
    {
     "name": "stdout",
     "output_type": "stream",
     "text": [
      "Starting CNN Profiling...\n",
      "Activation profiles will be stored in: profile\\activations\\cifar10\\ResNet18\\base\n"
     ]
    }
   ],
   "source": []
  },
  {
   "cell_type": "code",
   "execution_count": null,
   "metadata": {},
   "outputs": [
    {
     "name": "stderr",
     "output_type": "stream",
     "text": [
      "   [profile-0]: 100%|██████████| 32/32 [30:00<00:00, 56.26s/it]"
     ]
    },
    {
     "name": "stdout",
     "output_type": "stream",
     "text": [
      "Filter ablations completed. 32 filters analyzed.\n"
     ]
    },
    {
     "name": "stderr",
     "output_type": "stream",
     "text": [
      "\n"
     ]
    }
   ],
   "source": []
  },
  {
   "cell_type": "code",
   "execution_count": null,
   "metadata": {},
   "outputs": [
    {
     "name": "stderr",
     "output_type": "stream",
     "text": [
      " : [profile-101]: 136it [2:17:02, 49.03s/it] "
     ]
    }
   ],
   "source": [
    "\n"
   ]
  },
  {
   "cell_type": "markdown",
   "metadata": {},
   "source": [
    "## Evading Fine-Tuning Defense"
   ]
  },
  {
   "cell_type": "code",
   "execution_count": 24,
   "metadata": {},
   "outputs": [
    {
     "name": "stdout",
     "output_type": "stream",
     "text": [
      " Before Fine-Tuning:\n",
      "  - Clean Accuracy: 87.47%\n",
      "  - Backdoor Success Rate: 80.24%\n"
     ]
    }
   ],
   "source": [
    "batch_size = 50\n",
    "# Evaluate model before fine-tuning\n",
    "predict = objax.Jit(lambda x: model(x, training=False), model.vars())\n",
    "\n",
    "acc_clean_before = valid('N/A', X_test, Y_test, batch_size, predict, silient=True)\n",
    "acc_bdoor_before = valid('N/A', X_bdoor, Y_bdoor, batch_size, predict, silient=True)\n",
    "\n",
    "print(f\" Before Fine-Tuning:\")\n",
    "print(f\"  - Clean Accuracy: {acc_clean_before:.2f}%\")\n",
    "print(f\"  - Backdoor Success Rate: {acc_bdoor_before:.2f}%\")\n"
   ]
  },
  {
   "cell_type": "code",
   "execution_count": 26,
   "metadata": {},
   "outputs": [],
   "source": [
    "batch_size = 50      \n",
    "num_tunes = 5      \n",
    "learning_rate = 0.025 \n",
    "backdoor_label = 0   # Target label for backdoor\n",
    "backdoor_size = 4    # Trigger size\n",
    "\n",
    "# loss function\n",
    "def loss_fn(x, y):\n",
    "    logits = model(x, training=True)\n",
    "    return objax.functional.loss.cross_entropy_logits_sparse(logits, y).mean()\n",
    "\n",
    "# Define optimizer and gradient update\n",
    "train_vars = objax.VarCollection(model.vars())\n",
    "gv = objax.GradValues(loss_fn, train_vars)\n",
    "optimizer = objax.optimizer.SGD(train_vars)\n",
    "\n",
    "def fine_tune_step(x, y, lr):\n",
    "    g, v = gv(x, y)\n",
    "    optimizer(lr=lr, grads=g)\n",
    "    return v\n",
    "\n",
    "fine_tune_step = objax.Jit(fine_tune_step, gv.vars() + optimizer.vars())"
   ]
  },
  {
   "cell_type": "code",
   "execution_count": 27,
   "metadata": {},
   "outputs": [
    {
     "name": "stderr",
     "output_type": "stream",
     "text": [
      "   [train-0]: 100%|██████████| 1000/1000 [21:53<00:00,  1.31s/it]\n"
     ]
    },
    {
     "name": "stdout",
     "output_type": "stream",
     "text": [
      "📌 Fine-Tune Epoch 1/5\n",
      "  - Clean Accuracy: 91.90%\n",
      "  - Backdoor Success Rate: 88.10%\n",
      "  - Training Loss: 0.0510\n"
     ]
    },
    {
     "name": "stderr",
     "output_type": "stream",
     "text": [
      "   [train-1]: 100%|██████████| 1000/1000 [15:25<00:00,  1.08it/s]\n"
     ]
    },
    {
     "name": "stdout",
     "output_type": "stream",
     "text": [
      "📌 Fine-Tune Epoch 2/5\n",
      "  - Clean Accuracy: 92.04%\n",
      "  - Backdoor Success Rate: 87.53%\n",
      "  - Training Loss: 0.0292\n"
     ]
    },
    {
     "name": "stderr",
     "output_type": "stream",
     "text": [
      "   [train-2]: 100%|██████████| 1000/1000 [09:44<00:00,  1.71it/s]\n"
     ]
    },
    {
     "name": "stdout",
     "output_type": "stream",
     "text": [
      "📌 Fine-Tune Epoch 3/5\n",
      "  - Clean Accuracy: 91.90%\n",
      "  - Backdoor Success Rate: 87.54%\n",
      "  - Training Loss: 0.0146\n"
     ]
    },
    {
     "name": "stderr",
     "output_type": "stream",
     "text": [
      "   [train-3]: 100%|██████████| 1000/1000 [12:01<00:00,  1.39it/s]\n"
     ]
    },
    {
     "name": "stdout",
     "output_type": "stream",
     "text": [
      "📌 Fine-Tune Epoch 4/5\n",
      "  - Clean Accuracy: 92.06%\n",
      "  - Backdoor Success Rate: 86.88%\n",
      "  - Training Loss: 0.0065\n"
     ]
    },
    {
     "name": "stderr",
     "output_type": "stream",
     "text": [
      "   [train-4]: 100%|██████████| 1000/1000 [18:15<00:00,  1.10s/it]\n"
     ]
    },
    {
     "name": "stdout",
     "output_type": "stream",
     "text": [
      "📌 Fine-Tune Epoch 5/5\n",
      "  - Clean Accuracy: 92.05%\n",
      "  - Backdoor Success Rate: 86.92%\n",
      "  - Training Loss: 0.0029\n"
     ]
    }
   ],
   "source": [
    "# Run Fine-Tuning\n",
    "for epoch in range(num_tunes):\n",
    "    train_loss = train(epoch, X_train, Y_train, batch_size, fine_tune_step, learning_rate)\n",
    "    \n",
    "    acc_clean_after = valid('N/A', X_test, Y_test, batch_size, predict, silient=True)\n",
    "    acc_bdoor_after = valid('N/A', X_bdoor, Y_bdoor, batch_size, predict, silient=True)\n",
    "\n",
    "    print(f\" Fine-Tune Epoch {epoch+1}/{num_tunes}\")\n",
    "    print(f\"  - Clean Accuracy: {acc_clean_after:.2f}%\")\n",
    "    print(f\"  - Backdoor Success Rate: {acc_bdoor_after:.2f}%\")\n",
    "    print(f\"  - Training Loss: {train_loss:.4f}\")"
   ]
  },
  {
   "cell_type": "code",
   "execution_count": 34,
   "metadata": {},
   "outputs": [
    {
     "name": "stdout",
     "output_type": "stream",
     "text": [
      "Fine-tuned model saved to models/cifar10/ResNet18/fine_tuned_model_cifar10.npz.\n"
     ]
    }
   ],
   "source": [
    "# Save Fine-Tuned Model\n",
    "save_path = f\"models/{dataset}/{network}/fine_tuned_model_cifar10.npz\"\n",
    "save_network_parameters(model, save_path)\n",
    "print(f\"Fine-tuned model saved to {save_path}.\")"
   ]
  },
  {
   "cell_type": "code",
   "execution_count": null,
   "metadata": {},
   "outputs": [],
   "source": []
  },
  {
   "cell_type": "markdown",
   "metadata": {},
   "source": [
    "### Evading Neural Cleanse: Visualization of Attack Success"
   ]
  },
  {
   "cell_type": "code",
   "execution_count": null,
   "metadata": {},
   "outputs": [],
   "source": [
    "# Function to run Neural Cleanse and backdoor success evaluation\n",
    "def run_neural_cleanse(a,b ,c):\n",
    "    pass\n",
    "\n",
    "def compute_nc_evasion_results(model, x_valid, y_valid, trigger_sizes):\n",
    "\n",
    "    nc_detect_rates = []\n",
    "    backdoor_success_rates = []\n",
    "\n",
    "    for size in trigger_sizes:\n",
    "        print(f\"▶ Evaluating trigger size {size} pixels...\")\n",
    "\n",
    "        # Inject backdoor trigger and test attack success\n",
    "        x_backdoor, y_backdoor = blend_backdoor(x_valid, y_valid, size)\n",
    "        backdoor_success = valid('Backdoor', x_backdoor, y_backdoor, batch_size=50, predict=model)\n",
    "\n",
    "        # Run Neural Cleanse to detect the backdoor\n",
    "        nc_detect = run_neural_cleanse(a,b ,c )\n",
    "\n",
    "        # Store results\n",
    "        backdoor_success_rates.append(backdoor_success * 100)\n",
    "        nc_detect_rates.append(nc_detect * 100)  \n",
    "\n",
    "        print(f\"  - Backdoor Success: {backdoor_success * 100:.2f}%\")\n",
    "        print(f\"  - NC Detection Rate: {nc_detect * 100:.2f}%\")\n",
    "\n",
    "    return nc_detect_rates, backdoor_success_rates\n",
    "\n",
    "# List of trigger sizes in pixels\n",
    "_size_xaxis = [4, 8, 12, 16, 20, 24, 28]\n",
    "\n",
    "# Compute results using your model\n",
    "_size_ncres, _size_succs = compute_nc_evasion_results(model, x_valid, y_valid, _size_xaxis)\n",
    "\n",
    "# Print final results\n",
    "print(\"\\nFinal Results:\")\n",
    "for i, size in enumerate(_size_xaxis):\n",
    "    print(f\"Trigger Size {size}: NC Detection { _size_ncres[i]}%, Backdoor Success {_size_succs[i]}%\")\n",
    "\n",
    "\n",
    "######################################################################################################\n",
    "# Disable warnings for cleaner output\n",
    "warnings.simplefilter(action='ignore', category=UserWarning)\n",
    "warnings.simplefilter(action='ignore', category=FutureWarning)\n",
    "\n",
    "# Set seaborn configurations for better visualization\n",
    "_sns_configs = {\n",
    "    'font.size': 16,\n",
    "    'xtick.labelsize': 16,\n",
    "    'ytick.labelsize': 16,\n",
    "    'axes.facecolor': 'white',\n",
    "    'axes.edgecolor': 'black',\n",
    "    'axes.linewidth': 1.0,\n",
    "    'axes.labelsize': 16,\n",
    "    'legend.facecolor': 'white',\n",
    "    'legend.edgecolor': 'black',\n",
    "    'legend.fontsize': 16,\n",
    "    'grid.color': '#c0c0c0',\n",
    "    'grid.linestyle': ':',\n",
    "    'grid.linewidth': 0.8,\n",
    "}\n",
    "sns.set_theme(rc=_sns_configs)\n",
    "#########################################################################################################\n",
    "# Manually Collected Neural Cleanse (NC) Evasion Data\n",
    "_size_xaxis = [4, 8, 12, 16, 20, 24, 28]  # Width of trigger patterns\n",
    "_size_ncres = [100, 100, 10, 0, 0, 0, 0]  # Neural Cleanse detection rate (%)\n",
    "_size_succs = [100, 100, 98, 100, 100, 100, 100]  # Backdoor success rate (%)\n",
    "\n",
    "# Accuracy distribution based on trigger size\n",
    "_size4_accs = [\n",
    "    [0, 10, 20, 30, 40, 52, 61, 72, 89, 100],  # Backdoor success rate\n",
    "    [0, 0, 0, 0, 0, 0, 60, 100, 100, 100],    # Neural Cleanse detection rate\n",
    "]\n",
    "\n",
    "_size8_accs = [\n",
    "    [0, 10, 20, 30, 40, 50, 60, 70, 80, 93, 96, 98, 100],  # Backdoor success rate\n",
    "    [0, 0, 0, 0, 0, 0, 0, 0, 0, 0, 20, 60, 100],          # Neural Cleanse detection rate\n",
    "]\n",
    "\n",
    "_markers = ['o', 'v', 'p', '*', 'x']\n",
    "_linestyles = [':', '-.', '--', '-']\n",
    "\n",
    "\n",
    "# Create and Save Neural Cleanse Evasion Plots\n",
    "\n",
    "# Set the storage directory\n",
    "save_rdir = os.path.join(\"analysis\", \"NC\")\n",
    "os.makedirs(save_rdir, exist_ok=True)\n",
    "\n",
    "\n",
    "# Plot 1: NC Detection Rate vs. Trigger Size\n",
    "plt.figure(figsize=(9, 3.4))\n",
    "\n",
    "sns.lineplot(\n",
    "    x=np.array(_size_xaxis), y=np.array(_size_ncres),\n",
    "    marker=_markers[0], markeredgecolor='r',\n",
    "    linestyle=_linestyles[0], color='r', label='NC success'\n",
    ")\n",
    "\n",
    "sns.lineplot(\n",
    "    x=np.array(_size_xaxis), y=np.array(_size_succs),\n",
    "    marker=_markers[1], markeredgecolor='k',\n",
    "    linestyle=_linestyles[1], color='k', label='Backdoor success'\n",
    ")\n",
    "\n",
    "plt.xlim(min(_size_xaxis), max(_size_xaxis))\n",
    "plt.xticks(_size_xaxis + [4.])\n",
    "plt.xlabel(\"Trigger Pattern Width (pixels)\")\n",
    "plt.ylim(-1, 101)\n",
    "plt.yticks(range(0, 120, 20))\n",
    "plt.ylabel(\"NC Detection Rate (%)\")\n",
    "plt.legend()\n",
    "\n",
    "plot_filename = os.path.join(save_rdir, \"nc_detection_vs_trigger_size.png\")\n",
    "plt.tight_layout()\n",
    "plt.savefig(plot_filename)\n",
    "plt.show()\n",
    "\n",
    "print(\" Plot 1: NC Detection Rate vs. Trigger Size saved successfully.\")\n",
    "\n",
    "\n",
    "# Plot 2: Backdoor Success Rate vs. NC Detection\n",
    "plt.figure(figsize=(9, 3.4))\n",
    "\n",
    "sns.lineplot(\n",
    "    x=np.array(_size4_accs[0]), y=np.array(_size4_accs[1]),\n",
    "    marker=_markers[0], markeredgecolor='b',\n",
    "    linestyle=_linestyles[0], color='b', label=\"4x4 Trigger\"\n",
    ")\n",
    "\n",
    "sns.lineplot(\n",
    "    x=np.array(_size8_accs[0]), y=np.array(_size8_accs[1]),\n",
    "    marker=_markers[1], markeredgecolor='k',\n",
    "    linestyle=_linestyles[1], color='k', label=\"8x8 Trigger\"\n",
    ")\n",
    "\n",
    "plt.xlim(0, 100)\n",
    "plt.xlabel(\"Backdoor Success Rate (%)\")\n",
    "plt.ylim(-1, 101)\n",
    "plt.yticks(range(20, 120, 20))\n",
    "plt.ylabel(\"NC Detection Rate (%)\")\n",
    "plt.legend(loc=\"upper left\")\n",
    "\n",
    "plot_filename = os.path.join(save_rdir, \"nc_detection_vs_success_rate.png\")\n",
    "plt.tight_layout()\n",
    "plt.savefig(plot_filename)\n",
    "plt.show()\n",
    "\n",
    "print(\"Plot 2: Backdoor Success Rate vs. NC Detection saved successfully.\")\n",
    "\n",
    "# Completed\n",
    "print(\"Neural Cleanse evasion plots generated successfully!\")\n"
   ]
  }
 ],
 "metadata": {
  "kernelspec": {
   "display_name": "venv",
   "language": "python",
   "name": "python3"
  },
  "language_info": {
   "codemirror_mode": {
    "name": "ipython",
    "version": 3
   },
   "file_extension": ".py",
   "mimetype": "text/x-python",
   "name": "python",
   "nbconvert_exporter": "python",
   "pygments_lexer": "ipython3",
   "version": "3.12.3"
  }
 },
 "nbformat": 4,
 "nbformat_minor": 2
}
